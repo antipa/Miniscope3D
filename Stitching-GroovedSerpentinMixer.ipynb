{
 "cells": [
  {
   "cell_type": "markdown",
   "metadata": {},
   "source": [
    "In this notebook, I will demonstrate how to write a microfluidic serpentine with TipSlicer. This serpentine is defined by a programmatic function myFigure in which the 'image' for a given height is returned. This matrix is similar to the mask that would be send to a photolithograpy printer for that layer. White means there is material, black means there isn't. The basic functions allowing to define bends and channels are defined in a separate Python file Serpentin.py. \n",
    "\n",
    "For the stitching, the different choices of algorithms as used in the 'adaptive stitching paper' are present, you of course can only use 1 of them at a time. Concorde can then be used for the toolpath planning but the nearest neighbour algorithm is available if need be. "
   ]
  },
  {
   "cell_type": "code",
   "execution_count": null,
   "metadata": {},
   "outputs": [],
   "source": [
    "%pylab"
   ]
  },
  {
   "cell_type": "code",
   "execution_count": null,
   "metadata": {},
   "outputs": [],
   "source": [
    "import TipSlicer\n",
    "import cv2\n",
    "import scipy.ndimage as im\n",
    "import tables\n",
    "from importlib import reload\n",
    "import os\n",
    "import Serpentin"
   ]
  },
  {
   "cell_type": "code",
   "execution_count": null,
   "metadata": {},
   "outputs": [],
   "source": [
    "x=arange(-8000,8000,5)\n",
    "y=arange(-2000,2000,5)\n",
    "X,Y=np.meshgrid(x,y)\n",
    "print(X.shape)"
   ]
  },
  {
   "cell_type": "code",
   "execution_count": null,
   "metadata": {},
   "outputs": [],
   "source": [
    "# here the use with a formula instead of a STL is shown\n",
    "def myFigure(X,Y,z,extraPs):\n",
    "    thick=extraPs[0]\n",
    "   \n",
    "    startX=-7500\n",
    "    startY=0\n",
    "    chanLen=2000\n",
    "    bendRad=500\n",
    "    orientation=0\n",
    "    entLen=1000\n",
    "    \n",
    "    phi=np.deg2rad(30)\n",
    "    omega=np.deg2rad(15)\n",
    "    theta=np.deg2rad(10)\n",
    "    \n",
    "    heightChannel=100\n",
    "    heightGrooves=20\n",
    "    \n",
    "    T,eX,eY,bL=Serpentin.makeSerpentin(X,Y,startX,startY,thick,entLen,chanLen,bendRad,5,0)\n",
    "    \n",
    "    if (z<=heightChannel):\n",
    "        return T\n",
    "    else:\n",
    "        if (z<=heightChannel+heightGrooves):\n",
    "            G=np.zeros(T.shape,dtype=np.uint8)\n",
    "            for bb in bL:\n",
    "                if ((bb[4]==180) and (bb[5]==360)):\n",
    "                    G=Serpentin.makeGrooves(G,bb[0],bb[1],bb[2],bb[3],phi,omega,theta,doBottom=False)\n",
    "                elif ((bb[4]==180) and (bb[5]==0)):\n",
    "                    G=Serpentin.makeGrooves(G,bb[0],bb[1],bb[2],bb[3],phi,omega,theta,doBottom=True)\n",
    "            return G\n",
    "        else:\n",
    "            return np.zeros(T.shape,dtype=np.uint8)\n",
    "    \n",
    "    \n",
    "    "
   ]
  },
  {
   "cell_type": "code",
   "execution_count": null,
   "metadata": {},
   "outputs": [],
   "source": [
    "width=108"
   ]
  },
  {
   "cell_type": "code",
   "execution_count": null,
   "metadata": {},
   "outputs": [],
   "source": [
    "T=myFigure(X,Y,0,[width])\n",
    "clf()\n",
    "imshow(T,cmap=cm.gray_r)\n"
   ]
  },
  {
   "cell_type": "code",
   "execution_count": null,
   "metadata": {},
   "outputs": [],
   "source": [
    "%%%time\n",
    "optPoints=TipSlicer.getOptimalStitchCentres(T,150,150,X,Y)"
   ]
  },
  {
   "cell_type": "code",
   "execution_count": null,
   "metadata": {},
   "outputs": [],
   "source": [
    "optPoints"
   ]
  },
  {
   "cell_type": "code",
   "execution_count": null,
   "metadata": {},
   "outputs": [],
   "source": [
    "optPoints=TipSlicer.getHexStitchCentres(T,150,X,Y)"
   ]
  },
  {
   "cell_type": "code",
   "execution_count": null,
   "metadata": {},
   "outputs": [],
   "source": [
    "optPoints=TipSlicer.getSquareStitchCentres(T,150/np.sqrt(2),X,Y)"
   ]
  },
  {
   "cell_type": "code",
   "execution_count": null,
   "metadata": {},
   "outputs": [],
   "source": [
    "optPoints=TipSlicer.getOptimalStitchCentres_Bulk(T,150,150,X,Y)"
   ]
  },
  {
   "cell_type": "code",
   "execution_count": null,
   "metadata": {},
   "outputs": [],
   "source": []
  },
  {
   "cell_type": "code",
   "execution_count": null,
   "metadata": {},
   "outputs": [],
   "source": [
    "%%%time\n",
    "# now find optimal solution with CONCORDE and CPLEX\n",
    "pp=optPoints\n",
    "TipSlicer.writeTSPfile('blocks.tsp',pp)\n",
    "!concorde -o 'tsp.sol' 'blocks.tsp'\n",
    "Ord=TipSlicer.readTSPfile('tsp.sol')"
   ]
  },
  {
   "cell_type": "code",
   "execution_count": null,
   "metadata": {},
   "outputs": [],
   "source": [
    "clf()\n",
    "plot(pp[Ord][:,0],pp[Ord][:,1],'o-')"
   ]
  },
  {
   "cell_type": "markdown",
   "metadata": {
    "collapsed": true
   },
   "source": [
    "If you do not have concorde, you can try the following nearest neighbour algorithm"
   ]
  },
  {
   "cell_type": "code",
   "execution_count": null,
   "metadata": {},
   "outputs": [],
   "source": [
    "Ord,NNd=TipSlicer.TSPnearest(optPoints)"
   ]
  },
  {
   "cell_type": "code",
   "execution_count": null,
   "metadata": {},
   "outputs": [],
   "source": []
  },
  {
   "cell_type": "code",
   "execution_count": null,
   "metadata": {},
   "outputs": [],
   "source": [
    "pp_pix=TipSlicer.convertToPixels(X,Y,pp)"
   ]
  },
  {
   "cell_type": "code",
   "execution_count": null,
   "metadata": {},
   "outputs": [],
   "source": [
    "clf()\n",
    "plot(pp_pix[Ord][:,0],pp_pix[Ord][:,1],'y-')\n",
    "#plot(pp_pix[NNp][:,0],pp_pix[NNp][:,1],'r-')\n",
    "imshow(T,cmap=cm.gray_r)\n",
    "display(gcf())"
   ]
  },
  {
   "cell_type": "code",
   "execution_count": null,
   "metadata": {},
   "outputs": [],
   "source": []
  },
  {
   "cell_type": "markdown",
   "metadata": {},
   "source": [
    "# Now write to GWL"
   ]
  },
  {
   "cell_type": "code",
   "execution_count": null,
   "metadata": {},
   "outputs": [],
   "source": [
    "reload(TipSlicer)"
   ]
  },
  {
   "cell_type": "code",
   "execution_count": null,
   "metadata": {},
   "outputs": [],
   "source": [
    "regions, vertices = TipSlicer.makeVoronoiPolygons(optPoints)"
   ]
  },
  {
   "cell_type": "code",
   "execution_count": null,
   "metadata": {
    "scrolled": true
   },
   "outputs": [],
   "source": [
    "#%%%time\n",
    "# STEP 5: Write out stacks\n",
    "FovZ=120\n",
    "Fov=300\n",
    "hatching=0.5\n",
    "slicing=2\n",
    "\n",
    "amShells=10\n",
    "ScaffStep=40 # for solid infill => 2*hatching is spacing here\n",
    "hatchStep=1 # for contour distance and top-bottom infill, not used if amShells==1 and doTopBottom=False\n",
    "#CodeSpeeds=np.ones(3)*30000\n",
    "#CodeIntensities=np.ones(3)*80\n",
    "\n",
    "\n",
    "am=np.int(np.round(Fov/hatching))\n",
    "#amY=np.int(np.round(FovY/hatching))\n",
    "zz=np.arange(0,FovZ,slicing)\n",
    "\n",
    "\n",
    "dirName='GroovedSerpentin_108opt_120bis'\n",
    "if (not os.path.exists(dirName)):\n",
    "    os.mkdir(dirName)\n",
    "genBlockName=dirName+'/'+dirName+'Block-{:05d}.h5'\n",
    "genGwlName=dirName+'/'+dirName+'Block-{:05d}.gwl'\n",
    "genRegex=dirName+'/.+gwl'\n",
    "fullGwlName=dirName+'.gwl'\n",
    "distList=[]\n",
    "\n",
    "for i in np.arange(len(Ord)):\n",
    "#for i in np.arange(5):\n",
    "    # now make coordinate systems\n",
    "    print('Writing block {}'.format(i))\n",
    "    xc=optPoints[Ord[i],0]\n",
    "    yc=optPoints[Ord[i],1]\n",
    "    polygon = vertices[regions[Ord[i]]]\n",
    "\n",
    "    xx=np.linspace(xc-Fov/2.0,xc+Fov/2.0,am)\n",
    "    yy=np.linspace(yc-Fov/2.0,yc+Fov/2.0,am)\n",
    "    Xloc,Yloc=np.meshgrid(xx,yy)\n",
    "    \n",
    "    MM=TipSlicer.makeVoronoiMask(polygon,Xloc,Yloc)\n",
    "    # if you need overlap, do binary_dilation on the mask\n",
    "    MM=im.binary_dilation(MM,iterations=3)\n",
    "    \n",
    "    # with these coordinate systems, apply formulaToStack\n",
    "    blockName=genBlockName.format(i)\n",
    "    \n",
    "    TipSlicer.formulaToStack(blockName,Xloc,Yloc,zz,myFigure,extraParams=[width],writingMask=MM)\n",
    "    \n",
    "    # and write the GWL's\n",
    "    dists=TipSlicer.stackToGwl(blockName,genGwlName.format(i),amShells,ScaffStep,hatchStep\n",
    "                                   ,atAngles=-1,writeHeader=False,writeColourH5=False,doTopBottom=True)\n",
    "    try:\n",
    "        distList.append(dists)\n",
    "    except:\n",
    "        print('Could not add dist to list',dists)\n",
    "    \n",
    "TipSlicer.writeGwlForRegex(fullGwlName,genRegex)"
   ]
  },
  {
   "cell_type": "code",
   "execution_count": null,
   "metadata": {},
   "outputs": [],
   "source": [
    "print(dists)"
   ]
  },
  {
   "cell_type": "code",
   "execution_count": null,
   "metadata": {},
   "outputs": [],
   "source": [
    "print(len(distList))"
   ]
  },
  {
   "cell_type": "code",
   "execution_count": null,
   "metadata": {},
   "outputs": [],
   "source": [
    "DD=np.asarray(distList)\n",
    "print(DD.shape)"
   ]
  },
  {
   "cell_type": "code",
   "execution_count": null,
   "metadata": {},
   "outputs": [],
   "source": [
    "print(np.sum(DD,axis=0))"
   ]
  },
  {
   "cell_type": "markdown",
   "metadata": {},
   "source": [
    "# Calculating Contour length of all masks and amount of blocks"
   ]
  },
  {
   "cell_type": "code",
   "execution_count": null,
   "metadata": {},
   "outputs": [],
   "source": [
    "def calcContLength(optPoints,vertices,regions,Fov,am,myFigure,width):\n",
    "    contList=[]\n",
    "    for i in np.arange(len(optPoints)):\n",
    "    #for i in np.arange(5):\n",
    "        # now make coordinate systems\n",
    "        #print('Writing block {}'.format(i))\n",
    "        xc=optPoints[i,0]\n",
    "        yc=optPoints[i,1]\n",
    "        polygon = vertices[regions[i]]\n",
    "\n",
    "        xx=np.linspace(xc-Fov/2.0,xc+Fov/2.0,am)\n",
    "        yy=np.linspace(yc-Fov/2.0,yc+Fov/2.0,am)\n",
    "        Xloc,Yloc=np.meshgrid(xx,yy)\n",
    "\n",
    "        MM=TipSlicer.makeVoronoiMask(polygon,Xloc,Yloc)\n",
    "        # if you need overlap, do binary_dilation on the mask\n",
    "        MM=im.binary_dilation(MM,iterations=3)\n",
    "\n",
    "        T=myFigure(Xloc,Yloc,0,[width])\n",
    "        Rs=cv2.Canny((MM*T).astype(np.uint8),0.5,0.5)\n",
    "\n",
    "    #    MaskList.append(MM*T)\n",
    "        contList.append(Rs.sum())\n",
    "    #ML=np.asarray(MaskList)\n",
    "    CC=np.asarray(contList)\n",
    "    return CC.sum()"
   ]
  },
  {
   "cell_type": "code",
   "execution_count": null,
   "metadata": {},
   "outputs": [],
   "source": [
    "# Now make big loop!!\n",
    "os.environ[\"CUDA_VISIBLE_DEVICES\"]=\"1\""
   ]
  },
  {
   "cell_type": "code",
   "execution_count": null,
   "metadata": {},
   "outputs": [],
   "source": [
    "ShellList=[]\n",
    "BlockList=[]\n",
    "Widths=np.linspace(10,700,100)\n",
    "for w in Widths:\n",
    "    T=myFigure(X,Y,0,[w])\n",
    "    optPoints=TipSlicer.getOptimalStitchCentres(T,150,150,X,Y)\n",
    "    BlockList.append(len(optPoints))\n",
    "    regions, vertices = TipSlicer.makeVoronoiPolygons(optPoints)\n",
    "    sh=calcContLength(optPoints,vertices,regions,Fov,am,myFigure,w)\n",
    "    ShellList.append(sh)\n",
    "SH_Opt=np.asarray(ShellList)\n",
    "BL_Opt=np.asarray(BlockList)"
   ]
  },
  {
   "cell_type": "code",
   "execution_count": null,
   "metadata": {},
   "outputs": [],
   "source": [
    "savetxt('Shell_Opt.txt',SH_Opt)"
   ]
  },
  {
   "cell_type": "code",
   "execution_count": null,
   "metadata": {},
   "outputs": [],
   "source": [
    "Widths=np.linspace(20,700,10)"
   ]
  },
  {
   "cell_type": "code",
   "execution_count": null,
   "metadata": {},
   "outputs": [],
   "source": [
    "clf()\n",
    "plot(Widths,SH,'o')"
   ]
  },
  {
   "cell_type": "code",
   "execution_count": null,
   "metadata": {},
   "outputs": [],
   "source": [
    "ShellList=[]\n",
    "BlockList=[]\n",
    "Widths=np.linspace(10,700,100)\n",
    "for w in Widths:\n",
    "    T=myFigure(X,Y,0,[w])\n",
    "    optPoints=TipSlicer.getHexStitchCentres(T,150,X,Y)\n",
    "    BlockList.append(len(optPoints))\n",
    "    regions, vertices = TipSlicer.makeVoronoiPolygons(optPoints)\n",
    "    sh=calcContLength(optPoints,vertices,regions,Fov,am,myFigure,w)\n",
    "    ShellList.append(sh)\n",
    "SH_Hex=np.asarray(ShellList)\n",
    "BL_Hex=np.asarray(BlockList)"
   ]
  },
  {
   "cell_type": "code",
   "execution_count": null,
   "metadata": {},
   "outputs": [],
   "source": [
    "savetxt('Shell_Hex.txt',SH_Hex)"
   ]
  },
  {
   "cell_type": "code",
   "execution_count": null,
   "metadata": {},
   "outputs": [],
   "source": [
    "ShellList=[]\n",
    "BlockList=[]\n",
    "Widths=np.linspace(10,700,100)\n",
    "for w in Widths:\n",
    "    T=myFigure(X,Y,0,[w])\n",
    "    optPoints=TipSlicer.getSquareStitchCentres(T,150/np.sqrt(2),X,Y)\n",
    "    BlockList.append(len(optPoints))\n",
    "    regions, vertices = TipSlicer.makeVoronoiPolygons(optPoints)\n",
    "    sh=calcContLength(optPoints,vertices,regions,Fov,am,myFigure,w)\n",
    "    ShellList.append(sh)\n",
    "SH_Sq=np.asarray(ShellList)\n",
    "BL_Sq=np.asarray(BlockList)"
   ]
  },
  {
   "cell_type": "code",
   "execution_count": null,
   "metadata": {},
   "outputs": [],
   "source": [
    "savetxt('Shell_Sq.txt',SH_Sq)"
   ]
  },
  {
   "cell_type": "code",
   "execution_count": null,
   "metadata": {},
   "outputs": [],
   "source": [
    "ShellList=[]\n",
    "BlockList=[]\n",
    "Widths=np.linspace(10,700,100)\n",
    "for w in Widths:\n",
    "    T=myFigure(X,Y,0,[w])\n",
    "    optPoints=TipSlicer.getOptimalStitchCentres_Bulk(T,150,150,X,Y)\n",
    "    BlockList.append(len(optPoints))\n",
    "    regions, vertices = TipSlicer.makeVoronoiPolygons(optPoints)\n",
    "    sh=calcContLength(optPoints,vertices,regions,Fov,am,myFigure,w)\n",
    "    ShellList.append(sh)\n",
    "SH_Bulk=np.asarray(ShellList)\n",
    "BL_Bulk=np.asarray(BlockList)\n"
   ]
  },
  {
   "cell_type": "code",
   "execution_count": null,
   "metadata": {},
   "outputs": [],
   "source": [
    "savetxt('Shell_Bulk.txt',SH_Bulk)"
   ]
  },
  {
   "cell_type": "code",
   "execution_count": null,
   "metadata": {},
   "outputs": [],
   "source": [
    "Widths=np.linspace(10,700,100)\n",
    "hatching=0.5\n",
    "SH_Opt=np.loadtxt('Shell_Opt.txt')\n",
    "SH_Bulk=np.loadtxt('Shell_Bulk.txt')\n",
    "SH_Hex=np.loadtxt('Shell_Hex.txt')\n",
    "SH_Sq=np.loadtxt('Shell_Sq.txt')"
   ]
  },
  {
   "cell_type": "code",
   "execution_count": null,
   "metadata": {},
   "outputs": [],
   "source": [
    "clf()\n",
    "plot(Widths,SH_Opt*hatching,'.',color='k',label='Adaptive Stitching - Edge Voting')\n",
    "plot(Widths,SH_Bulk*hatching,'.',color='r',markerfacecolor='none',label='Adaptive Stitching - Bulk Voting')\n",
    "plot(Widths,SH_Hex*hatching,'h',markerfacecolor='none',label='Hexagonal Stitching')\n",
    "plot(Widths,SH_Sq*hatching,'s',markerfacecolor='none',label='Square Stitching')\n",
    "grid()\n",
    "legend(loc=4)\n",
    "ylim(0.2e8,1.5e8)\n",
    "xlim(0,700)\n",
    "xlabel('Channel Width [µm]')\n",
    "ylabel('Contour Length [µm]')\n",
    "display(gcf())\n"
   ]
  },
  {
   "cell_type": "code",
   "execution_count": null,
   "metadata": {},
   "outputs": [],
   "source": [
    "clf()\n",
    "plot(Widths,(SH_Hex-SH_Opt)*100/SH_Hex,'.',color='k',label='Adaptive Stitching - Edge Voting')\n",
    "plot(Widths,(SH_Hex-SH_Sq)*100/SH_Hex,'s',color='k',label='Square Stitching')\n",
    "plot(Widths,(SH_Hex-SH_Bulk)*100/SH_Hex,'h',color='k',label='Adaptive Stitching - Bulk Voting')\n",
    "ylim(-50,30)\n",
    "#plot(Widths,SH_Bulk,'.',color='r',markerfacecolor='none',label='Adaptive Stitching - Bulk Voting')\n",
    "#plot(Widths,SH_Hex*hatching,'h',markerfacecolor='none',label='Hexagonal Stitching')\n",
    "#plot(Widths,SH_Sq,'s',markerfacecolor='none',label='Square Stitching')\n",
    "grid()\n",
    "legend()\n",
    "xlabel('Channel Width [µm]')\n",
    "ylabel('Shell Length Difference [%]')\n",
    "display(gcf())"
   ]
  },
  {
   "cell_type": "code",
   "execution_count": null,
   "metadata": {},
   "outputs": [],
   "source": []
  }
 ],
 "metadata": {
  "anaconda-cloud": {},
  "kernelspec": {
   "display_name": "Python 3",
   "language": "python",
   "name": "python3"
  },
  "language_info": {
   "codemirror_mode": {
    "name": "ipython",
    "version": 3
   },
   "file_extension": ".py",
   "mimetype": "text/x-python",
   "name": "python",
   "nbconvert_exporter": "python",
   "pygments_lexer": "ipython3",
   "version": "3.5.6"
  }
 },
 "nbformat": 4,
 "nbformat_minor": 1
}
