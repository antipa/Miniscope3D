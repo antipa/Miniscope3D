{
 "cells": [
  {
   "cell_type": "code",
   "execution_count": 1,
   "metadata": {},
   "outputs": [],
   "source": [
    "import tensorflow as tf\n",
    "import tensorflow.contrib.eager as tfe\n",
    "tf.enable_eager_execution()"
   ]
  },
  {
   "cell_type": "markdown",
   "metadata": {},
   "source": [
    "The idea here is to fit an optical model of the lenslets to the captured PSF data. The idea is to give background- and noise-free impulse responses. This will be built on the tensorflow core code that runs the PSF optimization.\n",
    "\n",
    "The problem statement is basically:\n",
    "\n",
    "\n",
    "\n",
    "$$\\arg\\min_{\\theta_l,\\theta_M} \\sum_{z=0}^{N_z-1} \\left\\lVert\\left|F^{-1}diag(P_L)F\\left[U_z(x,y|\\theta_M).*\\exp(-j\\phi(x,y|\\theta_l)\\right]\\right|^2 - b(x,y|z)\\right\\lVert$$\n",
    "\n",
    "where $\\theta_l$ represents a parameterized phase mask (i.e. lenslet locations, zernikes), $\\theta_M$ represents the parameters of the miniscope build, including mask rotations and tip/tilt. $P_L$ is propagation by distance L (in frequency space), $F$ is DFT, $U_z$ is the wavefront in the pupil due to a point source at plane $z$ in front of the GRIN, and $\\phi$ is the phase of the pupil-plane mask. $b(x,y|z)$ is the PSF measured from the as-built system with a point source at distance z-plane $z$.\n"
   ]
  },
  {
   "cell_type": "code",
   "execution_count": null,
   "metadata": {},
   "outputs": [],
   "source": []
  },
  {
   "cell_type": "code",
   "execution_count": null,
   "metadata": {},
   "outputs": [],
   "source": [
    "import matplotlib.pyplot as plt\n",
    "import numpy as np\n",
    "import miniscope_utils_tf as tf_utils\n",
    "from miniscope_model import Model as msu_model\n",
    "import scipy as sc\n",
    "import scipy.ndimage as ndim\n",
    "import scipy.misc as misc\n",
    "from scipy import signal\n",
    "import scipy.io\n",
    "from skimage.transform import resize as imresize\n",
    "%matplotlib inline\n",
    "from IPython.core.display import display, HTML\n",
    "display(HTML(\"<style>.container { width:95% !important; }</style>\"))\n",
    "from IPython import display\n",
    "\n",
    "import os\n",
    "from os import listdir\n",
    "from os.path import isfile, join\n",
    "import matplotlib.animation as animation"
   ]
  },
  {
   "cell_type": "code",
   "execution_count": null,
   "metadata": {},
   "outputs": [],
   "source": [
    "os.environ[\"CUDA_VISIBLE_DEVICES\"]=\"0\""
   ]
  },
  {
   "cell_type": "code",
   "execution_count": null,
   "metadata": {},
   "outputs": [],
   "source": [
    "zernikes_index = [1,2,3,4]\n",
    "model = msu_model(target_res=0.004, aberrations = True, zernikes = zernikes_index)  # zsampling options: 'fixed' or 'uniform_random'\n"
   ]
  },
  {
   "cell_type": "code",
   "execution_count": null,
   "metadata": {},
   "outputs": [],
   "source": []
  },
  {
   "cell_type": "code",
   "execution_count": null,
   "metadata": {},
   "outputs": [],
   "source": [
    "#model = msu_model(target_res=0.004,aberrations = True)  # zsampling options: 'fixed' or 'uniform_random'\n",
    "load_init_from_file = False\n",
    "# Load initialization from file\n",
    "if load_init_from_file == True:\n",
    "    print('loading initilization from file')\n",
    "    file_best = '/media/hongdata/Kristina/MiniscopeData/best_init.mat'\n",
    "    file_worst = '/media/hongdata/Kristina/MiniscopeData/worst_init.mat'\n",
    "    model = load_model_from_file(model, file_best)\n",
    "    \n",
    "# Save initial values for later comparison \n",
    "Rmat=model(0)\n",
    "R_init = Rmat\n",
    "Tinit,_,_= tf_utils.make_lenslet_tf_zern(model)\n",
    "\n",
    "xinit = tfe.Variable(tf.zeros(model.Nlenslets));       tf.assign(xinit, model.xpos)\n",
    "yinit = tfe.Variable(tf.zeros(model.Nlenslets));       tf.assign(yinit, model.ypos)\n",
    "rinit = tfe.Variable(tf.zeros(model.Nlenslets));       tf.assign(rinit, model.rlist)\n",
    "#offsetinit = tfe.Variable(tf.zeros(model.Nlenslets));  tf.assign(offsetinit, model.lenslet_offset)\n",
    "zerninit = tfe.Variable(tf.zeros((model.Nlenslets, model.numzern))); tf.assign(zerninit, model.zernlist)\n",
    "\n",
    "model_init = msu_model(target_res=0.004, aberrations = True, zernikes = zernikes_index)\n",
    "tf.assign(model_init.xpos, xinit)\n",
    "tf.assign(model_init.ypos, yinit)\n",
    "tf.assign(model_init.rlist, rinit)\n",
    "#tf.assign(model_init.lenslet_offset, offsetinit)\n",
    "tf.assign(model_init.zernlist, zerninit)\n",
    "Rmat_init = model_init(0)\n",
    "\n",
    "fig=plt.figure(figsize=(15,5))\n",
    "plt.subplot(1,2,1)\n",
    "plt.imshow(Tinit.numpy())\n",
    "plt.subplot(1,2,2)\n",
    "plt.plot(R_init.numpy())"
   ]
  },
  {
   "cell_type": "code",
   "execution_count": null,
   "metadata": {},
   "outputs": [],
   "source": [
    "zstack = [tf.ones((5,5)) for n in range(6)]\n",
    "model.target_psf = [.5*tf.ones((5,5)) for n in range(6)]\n",
    "testloss = [tf.norm(test1[n]-test2[n]) for n in range(6)]"
   ]
  },
  {
   "cell_type": "code",
   "execution_count": null,
   "metadata": {},
   "outputs": [],
   "source": [
    "\n",
    "[0.5*tf.norm(zstack[n] - model.target_psf[n])**2 for n in range(6)]"
   ]
  },
  {
   "cell_type": "code",
   "execution_count": null,
   "metadata": {},
   "outputs": [],
   "source": [
    "psf_zstack =  model.gen_psf_stack(Tinit,.9,0)\n",
    "psf_zstack_lst = [np.array(psf_zstack[n].numpy()) for n in range(model.Nz)]\n",
    "psf_zstack_arr = np.array(psf_zstack_lst)\n",
    "os.mkdir(\"../psf_meas/\")"
   ]
  },
  {
   "cell_type": "code",
   "execution_count": null,
   "metadata": {},
   "outputs": [],
   "source": [
    "sc.io.savemat(\"../psf_meas/zstack_sim_test.mat\",{'zstack':psf_zstack_arr})"
   ]
  },
  {
   "cell_type": "code",
   "execution_count": null,
   "metadata": {},
   "outputs": [],
   "source": [
    "test_psf_in = sc.io.loadmat(\"../psf_meas/zstack_sim_test.mat\")"
   ]
  },
  {
   "cell_type": "code",
   "execution_count": null,
   "metadata": {},
   "outputs": [],
   "source": [
    "print(np.shape(test_psf_in['zstack']))\n",
    "test_psf_tf = [tf.constant(test_psf_in['zstack'][n]) for n in range(np.shape(test_psf_in['zstack'])[0])]\n",
    "print(test_psf_tf)"
   ]
  },
  {
   "cell_type": "code",
   "execution_count": null,
   "metadata": {},
   "outputs": [],
   "source": []
  }
 ],
 "metadata": {
  "kernelspec": {
   "display_name": "Python [conda env:eager-latest]",
   "language": "python",
   "name": "conda-env-eager-latest-py"
  },
  "language_info": {
   "codemirror_mode": {
    "name": "ipython",
    "version": 3
   },
   "file_extension": ".py",
   "mimetype": "text/x-python",
   "name": "python",
   "nbconvert_exporter": "python",
   "pygments_lexer": "ipython3",
   "version": "3.5.6"
  }
 },
 "nbformat": 4,
 "nbformat_minor": 2
}
