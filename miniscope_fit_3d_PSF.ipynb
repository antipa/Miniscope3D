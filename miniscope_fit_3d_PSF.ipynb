{
 "cells": [
  {
   "cell_type": "code",
   "execution_count": null,
   "metadata": {},
   "outputs": [],
   "source": [
    "import tensorflow as tf\n",
    "import tensorflow.contrib.eager as tfe\n",
    "tf.enable_eager_execution()"
   ]
  },
  {
   "cell_type": "markdown",
   "metadata": {},
   "source": [
    "The idea here is to fit an optical model of the lenslets to the captured PSF data. The idea is to give background- and noise-free impulse responses. This will be built on the tensorflow core code that runs the PSF optimization.\n",
    "\n",
    "The problem statement is basically:\n",
    "\n",
    "\n",
    "\n",
    "$$\\arg\\min_{\\theta_l,\\theta_M} \\sum_{z=0}^{N_z-1} \\left\\lVert\\left|F^{-1}diag(P_L)F\\left[U_z(x,y|\\theta_M).*\\exp(-j\\phi(x,y|\\theta_l)\\right]\\right|^2 - b(x,y|z)\\right\\lVert$$\n",
    "\n",
    "where $\\theta_l$ represents a parameterized phase mask (i.e. lenslet locations, zernikes), $\\theta_M$ represents the parameters of the miniscope build, including mask rotations and tip/tilt. $P_L$ is propagation by distance L (in frequency space), $F$ is DFT, $U_z$ is the wavefront in the pupil due to a point source at plane $z$ in front of the GRIN, and $\\phi$ is the phase of the pupil-plane mask. $b(x,y|z)$ is the PSF measured from the as-built system with a point source at distance z-plane $z$.\n",
    "\n",
    "To make this work, initialization is crucial. We will initialize the model with the background subtracted zstack taken from the as-built nanoscribe-based miniscope (``model.target_psf``). We will then generate PSFs with manually entered rotations and focus until a qualitatively close match is found between the recipe and the measured PSF. Once that has been found, we'll use feature matching + ransac (or similar) to find a homography between the measured PSF and the predicted one. The shift an rotation can be directly applied to the coordinates of the lenslets in the design. The magnification will be used to fine-tune the actual object distances (since scale approximately maps to z for small defocuses). With that homography, we'll have the parameters necessary to initialize the lenslet fitting problem fairly well. \n",
    "\n",
    "To summarize:\n",
    "1. Initialize miniscope model with calibration stack as `model.target_psf`\n",
    "\n",
    "2. Manually find rotation/focus to match a single measured PSF to a simulated one (qualitatively)\n",
    "    2. Manually rotate `model.xpos` and `model.ypos`\n",
    "    2. reinitialize model with rotated coordinates\n",
    "    2. generate rotated surface function using `tf_utils.make_lenslet_tf_zern(model)` \n",
    "    2. generate zstacks using `model.gen_psf_stack`\n",
    "    2. Repeat until good match is found\n",
    "\n",
    "3. Find homgraphy between points generated in 2 and target psf\n",
    "4. Use parameters of homography to update model\n",
    "5. Fine tune locations, radii (and possibly zernikes) using gradient descent\n",
    "\n",
    "\n"
   ]
  },
  {
   "cell_type": "code",
   "execution_count": 3,
   "metadata": {},
   "outputs": [
    {
     "name": "stderr",
     "output_type": "stream",
     "text": [
      "/home/nick/Miniscope3D/miniscope_model.py:159: SyntaxWarning: assertion is always true, perhaps remove parentheses?\n",
      "  assert(Nz_in == self.Nz,'Measured PSF has different number of zplanes than model')\n"
     ]
    },
    {
     "data": {
      "text/html": [
       "<style>.container { width:95% !important; }</style>"
      ],
      "text/plain": [
       "<IPython.core.display.HTML object>"
      ]
     },
     "metadata": {},
     "output_type": "display_data"
    }
   ],
   "source": [
    "import matplotlib.pyplot as plt\n",
    "import numpy as np\n",
    "import miniscope_utils_tf as tf_utils\n",
    "from miniscope_model import Model as msu_model\n",
    "import scipy as sc\n",
    "import scipy.ndimage as ndim\n",
    "import scipy.misc as misc\n",
    "from scipy import signal\n",
    "import scipy.io\n",
    "from skimage.transform import resize as imresize\n",
    "%matplotlib inline\n",
    "from IPython.core.display import display, HTML\n",
    "display(HTML(\"<style>.container { width:95% !important; }</style>\"))\n",
    "from IPython import display\n",
    "\n",
    "import os\n",
    "from os import listdir\n",
    "from os.path import isfile, join\n",
    "import matplotlib.animation as animation"
   ]
  },
  {
   "cell_type": "code",
   "execution_count": 4,
   "metadata": {},
   "outputs": [],
   "source": [
    "os.environ[\"CUDA_VISIBLE_DEVICES\"]=\"0\""
   ]
  },
  {
   "cell_type": "code",
   "execution_count": 15,
   "metadata": {},
   "outputs": [],
   "source": [
    "def re_init_model(model_in, xi, yi, ri, zi):\n",
    "    model_in.xpos.assign(xi)\n",
    "    model_in.ypos.assign(yi)\n",
    "\n",
    "    #model_in.lenslet_offset.assign(offsetinit)\n",
    "    model_in.rlist.assign(ri)\n",
    "    if tf.not_equal(tf.size(model.zernlist),0):\n",
    "        model_in.zernlist.assign(zi)"
   ]
  },
  {
   "cell_type": "code",
   "execution_count": 16,
   "metadata": {},
   "outputs": [],
   "source": [
    "zernikes_index = []\n",
    "model = msu_model(Nlenslets = 37, aberrations = False, zernikes = zernikes_index,loss_type='psf_error',\n",
    "                  lenslet_CA=0.2,lenslet_spacing = 'uniform')  # zsampling options: 'fixed' or 'uniform_random'\n"
   ]
  },
  {
   "cell_type": "code",
   "execution_count": 17,
   "metadata": {},
   "outputs": [
    {
     "name": "stdout",
     "output_type": "stream",
     "text": [
      "tf.Tensor([37], shape=(1,), dtype=int32)\n"
     ]
    }
   ],
   "source": [
    "print(tf.shape(model.xpos))"
   ]
  },
  {
   "cell_type": "code",
   "execution_count": 18,
   "metadata": {},
   "outputs": [],
   "source": [
    "model_orig = sc.io.loadmat(\"../psf_meas/zstack_sim_test.mat\")\n",
    "\n",
    "xinit = model_orig['xpos'][0]\n",
    "yinit = model_orig['ypos'][0]\n",
    "rinit = model_orig['r'][0]\n",
    "zerninit = model_orig['zern_list']\n"
   ]
  },
  {
   "cell_type": "code",
   "execution_count": 21,
   "metadata": {},
   "outputs": [],
   "source": [
    "# Manual initialization with nanoscribed recipe\n",
    "# Randoscope nanoscribe v1 recipe: \n",
    "xpos=np.array([ 0.18578115,  0.74248238,  0.35555949,  0.10187365, -0.22157956,\n",
    "       -0.5502,  0.29999206,  0.68421244,  0.11299734,  0.3125789 ,\n",
    "        0.69618861, -0.28096646,  0.45888084, -0.27032854,  0.07697116,\n",
    "       -0.5625567 , -0.58, -0.22702032,  0.07976543, -0.70372301,\n",
    "       -0.34797056, -0.1152197 ,  0.41478314, -0.49736261,  0.39453689,\n",
    "       -0.09447947, -0.08091086, -0.40003641,  0.04180626,  0.49347817,\n",
    "        0.25394288,  0.02494959,  0.53552421,  0.28558491,  0.61067326,\n",
    "       -0.72650046,-0.32])\n",
    "\n",
    "ypos=np.array([-0.44942685,  0.0187904 , -0.08720638,  0.7031471 ,  0.11111811,\n",
    "        0.2784 ,  0.16797938, -0.22899178, -0.07601691,  0.67472988,\n",
    "        0.23505869,  0.65642641,  0.52935778,  0.36883709,  0.1762651 ,\n",
    "        0.01505985, -0.4, -0.69954257,  0.41217862, -0.2266678 ,\n",
    "       -0.06487182,  0.51443979, -0.30910161,  0.51766252, -0.53589769,\n",
    "       -0.11244721, -0.46289246, -0.56147136, -0.29425527,  0.2757895 ,\n",
    "       -0.69100594, -0.64317962,  0.01663745,  0.40540164, -0.42807524,\n",
    "        0.168447,-0.3  ])\n",
    "\n",
    "rlist=np.array([4.000442 , 4.440296 , 3.7237842, 3.5596673, 3.2063835, 5.4982405,\n",
    "       4.2089086, 3.0839548, 5.3172565, 3.1439776, 6.364798 , 3.4829168,\n",
    "       2.767    , 4.3215075, 4.839368 , 4.988825 , 2.8152227, 5.1478076,\n",
    "       3.409406 , 6.9092703, 4.6986055, 3.2713168, 5.691979 , 4.5658   ,\n",
    "       4.1020284, 2.970532 , 6.625868 , 7.218    , 3.8116512, 5.8998694,\n",
    "       2.865156 , 3.6398768, 3.9037654, 2.9168925, 3.3389342, 3.026181 ,\n",
    "       6.123522 ])\n",
    "\n"
   ]
  },
  {
   "cell_type": "code",
   "execution_count": 22,
   "metadata": {},
   "outputs": [],
   "source": [
    "#re_init_model(model,xinit, yinit, rinit, zerninit)\n",
    "re_init_model(model, xpos,ypos,rlist,zerninit)   # Initialize model with manually entered values\n"
   ]
  },
  {
   "cell_type": "code",
   "execution_count": 14,
   "metadata": {
    "scrolled": false
   },
   "outputs": [
    {
     "data": {
      "text/plain": [
       "[<matplotlib.lines.Line2D at 0x7fe078029668>]"
      ]
     },
     "execution_count": 14,
     "metadata": {},
     "output_type": "execute_result"
    },
    {
     "data": {
      "image/png": "[encoded data removed]",
      "text/plain": [
       "<Figure size 1080x360 with 2 Axes>"
      ]
     },
     "metadata": {
      "needs_background": "light"
     },
     "output_type": "display_data"
    }
   ],
   "source": [
    "#model = msu_model(target_res=0.004,aberrations = True)  # zsampling options: 'fixed' or 'uniform_random'\n",
    "load_init_from_file = False\n",
    "# Load initialization from file\n",
    "if load_init_from_file == True:\n",
    "    print('loading initilization from file')\n",
    "    file_best = '/media/hongdata/Kristina/MiniscopeData/best_init.mat'\n",
    "    file_worst = '/media/hongdata/Kristina/MiniscopeData/worst_init.mat'\n",
    "    model = load_model_from_file(model, file_best)\n",
    "    \n",
    "# Save initial values for later comparison \n",
    "Rmat=model(0)\n",
    "R_init = Rmat\n",
    "Tinit,aper,_= tf_utils.make_lenslet_tf_zern(model)\n",
    "\n",
    "model_init = msu_model(target_res=0.004, aberrations = True, zernikes = zernikes_index)\n",
    "#re_init_model(model_init,xinit,yinit,rinit,zerninit)\n",
    "\n",
    "Rmat_init = model_init(0)\n",
    "\n",
    "fig=plt.figure(figsize=(15,5))\n",
    "plt.subplot(1,2,1)\n",
    "plt.imshow(Tinit.numpy())\n",
    "plt.subplot(1,2,2)\n",
    "plt.plot(R_init.numpy())"
   ]
  },
  {
   "cell_type": "code",
   "execution_count": null,
   "metadata": {},
   "outputs": [],
   "source": [
    "plt.figure()\n",
    "print(tf.shape(aper))\n",
    "\n",
    "#plt.plot(model.xg,tf.multiply(aper,Tinit).numpy()[400,:])\n",
    "plt.imshow(aper.numpy()*Tinit.numpy())"
   ]
  },
  {
   "cell_type": "code",
   "execution_count": null,
   "metadata": {},
   "outputs": [],
   "source": [
    "# psf_zstack =  model.gen_psf_stack(Tinit,.9,0)\n",
    "# psf_zstack_lst = [np.array(psf_zstack[n].numpy()) for n in range(model.Nz)]\n",
    "# psf_zstack_arr = np.array(psf_zstack_lst)\n",
    "# save_dict = {\n",
    "#     'zstack':psf_zstack_arr,\n",
    "#     'xpos':model.xpos.numpy(),\n",
    "#     'ypos':model.ypos.numpy(),\n",
    "#     'r':model.rlist.numpy(),\n",
    "#     'zerns':model.zernikes,\n",
    "#     'zern_list':model.zernlist\n",
    "# }\n",
    "# sc.io.savemat(\"../psf_meas/zstack_sim_test.mat\",save_dict)"
   ]
  },
  {
   "cell_type": "code",
   "execution_count": null,
   "metadata": {},
   "outputs": [],
   "source": [
    "model.mean_lenslet_CA"
   ]
  },
  {
   "cell_type": "code",
   "execution_count": null,
   "metadata": {},
   "outputs": [],
   "source": [
    "xp = xinit + tf.random_normal(tf.shape(xinit), stddev=.02)\n",
    "yp = yinit + tf.random_normal(tf.shape(xinit), stddev=.02)\n",
    "rp = rinit + tf.random_normal(tf.shape(xinit), stddev=.5)\n",
    "rp = tf.minimum(rp,model.Rmax)\n",
    "tp = tf.maximum(rp,model.Rmin)\n",
    "re_init_model(model,xp,yp,rp,zerninit)\n",
    "Rmat = model(0)\n",
    "Tp,aper,_= tf_utils.make_lenslet_tf_zern(model)\n",
    "\n",
    "fig, ax = plt.subplots(1,3,figsize=(15,5))\n",
    "ax[0].plot(Rmat.numpy())\n",
    "ax[0].set_title('Rmat - random purturbation')\n",
    "\n",
    "ax[1].imshow(Tinit.numpy()*aper.numpy())\n",
    "ax[1].set_title('True surface')\n",
    "\n",
    "ax[2].imshow(Tp.numpy()*aper.numpy())\n",
    "ax[2].set_title('Initialization')"
   ]
  },
  {
   "cell_type": "code",
   "execution_count": null,
   "metadata": {},
   "outputs": [],
   "source": [
    "def rot_xy(xloc,yloc,thetad):\n",
    "    #rotmat = [np.cos(theta) -np.sin(theta); np.sin(theta) np.cos(theta)]\n",
    "    \n",
    "    xnew = np.cos(thetad*np.pi/180)*xloc - np.sin(thetad*np.pi/180)*yloc\n",
    "    ynew = np.sin(thetad*np.pi/180)*xloc + np.cos(thetad*np.pi/180)*yloc\n",
    "    return(xnew,ynew)"
   ]
  },
  {
   "cell_type": "code",
   "execution_count": null,
   "metadata": {},
   "outputs": [],
   "source": [
    "xrot, yrot = rot_xy(xpos,-ypos,-210)\n",
    "re_init_model(model, xrot,yrot,rlist,zerninit)\n",
    "\n",
    "\n",
    "\n",
    "Trot,_,_ = tf_utils.make_lenslet_tf_zern(model)\n",
    "psf_init_zstack = model.gen_psf_stack(Trot,aper,0)\n",
    "def drawnow():\n",
    "    display.display(plt.gcf())\n",
    "    display.clear_output(wait=True)\n",
    "\n",
    "\n",
    "f = plt.figure(figsize=(10,10))\n",
    "for n in [2]:\n",
    "    plt.imshow(psf_init_zstack[n])\n",
    "    drawnow()"
   ]
  },
  {
   "cell_type": "code",
   "execution_count": null,
   "metadata": {},
   "outputs": [],
   "source": []
  },
  {
   "cell_type": "code",
   "execution_count": null,
   "metadata": {},
   "outputs": [],
   "source": [
    "psf_zstack =  model.gen_psf_stack(Tp,aper,0)\n",
    "\n",
    "dp = 1\n",
    "f, ax = plt.subplots(1,3,figsize=(15,5))\n",
    "ax[0].imshow(model.target_psf[dp])\n",
    "ax[1].imshow(psf_zstack[dp])\n",
    "ax[2].imshow(model.target_psf[dp] - psf_zstack[dp],vmax=.001)\n",
    "\n"
   ]
  },
  {
   "cell_type": "code",
   "execution_count": null,
   "metadata": {},
   "outputs": [],
   "source": [
    "# psf_zstack =  model.gen_psf_stack(Tinit,.9,0)\n",
    "# psf_zstack_lst = [np.array(psf_zstack[n].numpy()) for n in range(model.Nz)]\n",
    "# psf_zstack_arr = np.array(psf_zstack_lst)\n",
    "# sc.io.savemat(\"../psf_meas/zstack_sim_test.mat\",{'zstack':psf_zstack_arr})"
   ]
  },
  {
   "cell_type": "code",
   "execution_count": null,
   "metadata": {},
   "outputs": [],
   "source": [
    "def gradient (model, myloss, inputs):\n",
    "    with tf.GradientTape() as tape:\n",
    "        lossvalue, Rmat = myloss(model, inputs)\n",
    "        return tape.gradient(lossvalue, model.variables),lossvalue, Rmat\n",
    "    \n",
    "def gradients_and_scaling(model, loss, inputs):\n",
    "    grad,lossvalue, Rmat=gradient(model,loss, inputs)\n",
    "    \n",
    "    grad[0] = grad[0]\n",
    "    #grad[1] = grad[1] * 1000\n",
    "    #grad[2] = grad[2] * 1000\n",
    "    \n",
    "    grad[1] = grad[1]/5000.\n",
    "    grad[2] = grad[2]/5000.\n",
    "\n",
    "\n",
    "    grads=tf_utils.remove_nan_gradients(grad)\n",
    "    return grads, lossvalue, Rmat\n"
   ]
  },
  {
   "cell_type": "code",
   "execution_count": null,
   "metadata": {},
   "outputs": [],
   "source": [
    "re_init_model(model,xp,yp,rp,zerninit)"
   ]
  },
  {
   "cell_type": "code",
   "execution_count": null,
   "metadata": {
    "scrolled": true
   },
   "outputs": [],
   "source": [
    "# Options:\n",
    "step_size = 10e-1   #1e-8 works well for l2\n",
    "use_averaged_gradient = False  # True: uses averaged gradient, False: uses single gradient \n",
    "optimizer_type = 'nesterov'           # options: 'gd': normal gradient descent, 'nesterov': nesterov acceleration\n",
    "num_iterations = 500\n",
    "num_batches = 1\n",
    "randomize_z = False   #If true, randomize zlist each epoch. If false, leave original order.\n",
    "Rin = model(0)\n",
    "nvars = len(model.variables)\n",
    "#optimizer=tf.train.GradientDescentOptimizer(learning_rate=step_size)\n",
    "optimizer = tf.train.GradientDescentOptimizer(learning_rate=step_size)\n",
    "#optimizer=tf.train.MomentumOptimizer(learning_rate=step_size,momentum= 0.9, use_nesterov = True)\n",
    "fig, ax = plt.subplots(2,4,figsize=(15,5))\n",
    "\n",
    "Tir = 0\n",
    "Tic = 0\n",
    "ax[Tir,Tic].imshow(Tinit)\n",
    "ax[Tir,Tic].set_title('Initial surface')\n",
    "\n",
    "\n",
    "Tor = 0\n",
    "Toc = 1\n",
    "ax[Tor,Toc].imshow(Tinit)\n",
    "ax[Tor,Toc].set_title('Optimized surface')\n",
    "\n",
    "Ter = 0\n",
    "Tec = 2\n",
    "imh = ax[Ter,Tec].imshow(Tinit - Tinit)\n",
    "ax[Ter,Tec].set_title('Phase error')\n",
    "cb = plt.colorbar(imh,ax=ax[Ter,Tec])\n",
    "\n",
    "per = 0\n",
    "pec = 3\n",
    "pl = ax[per,pec].plot([])\n",
    "ax[per,pec].set_title('phase MSE')\n",
    "\n",
    "lr = 1\n",
    "lc = 0\n",
    "l = ax[lr,lc].semilogy([])\n",
    "ax[lr,lc].set_title('Loss')\n",
    "\n",
    "xyr = 1\n",
    "xyc = 1\n",
    "lh = ax[xyr,xyc].scatter(model.xpos.numpy(),model.ypos.numpy(),c='k', marker='.',label='init')\n",
    "lh = ax[xyr,xyc].scatter(model.xpos.numpy(),model.ypos.numpy(),c='b', marker='.',label='opt')\n",
    "ax[xyr,xyc].scatter(xinit,yinit,c='r',marker='x',label='target')\n",
    "ax[xyr,xyc].axis('equal')\n",
    "\n",
    "rr = 1\n",
    "rc = 2\n",
    "ax[rr,rc].plot(model.rlist.numpy(),'k.',label='init')\n",
    "rh = ax[rr,rc].plot(model.rlist.numpy(),'b.',label='opt')\n",
    "ax[rr,rc].plot(rinit,'rx',label='target')\n",
    "\n",
    "\n",
    "Rr = 1\n",
    "Rc = 3\n",
    "Rh = ax[Rr,Rc].plot(Rin.numpy())\n",
    "\n",
    "\n",
    "losslist = []\n",
    "phase_err = []\n",
    "rmean=[]\n",
    "\n",
    "defocus_grid=  1./(np.linspace(1/model.zmin_virtual, 1./model.zmax_virtual, model.Nz * num_batches)) #mm or dioptres\n",
    "    \n",
    "\n",
    "if optimizer_type == 'nesterov':\n",
    "    tk = tf.constant(1,tf.float32)\n",
    "    tkp = tf.constant(1,tf.float32)\n",
    "\n",
    "    #xkp = model.variables\n",
    "    nvars = np.shape(model.variables)[0]\n",
    "    xk = []\n",
    "    xkp = []\n",
    "    [xk.append(tf.Variable(tf.zeros(model.Nlenslets))) for n in range(nvars)]\n",
    "    [xkp.append(tf.Variable(tf.zeros(model.Nlenslets))) for n in range(nvars)]\n",
    "    [tf.assign(xkp[n],model.variables[n]) for n in range(nvars)]\n",
    "\n",
    "\n",
    "for i in range(num_iterations):\n",
    "    if randomize_z:\n",
    "        defocus_epoch = np.random.permutation(defocus_grid)\n",
    "    else:\n",
    "        defocus_epoch = defocus_grid\n",
    "    for j in range(num_batches):\n",
    "        if use_averaged_gradient == True:\n",
    "            grad,lossvalue, Rmat =  averaged_gradient(model, tf_utils.loss, num_averages = 10)\n",
    "        else: \n",
    "            grad, lossvalue, Rmat = gradients_and_scaling(model, tf_utils.loss, defocus_epoch[j*model.Nz:j*model.Nz+model.Nz])  # initial value \n",
    "\n",
    "\n",
    "        #grad,lossvalue, Rmat=gradient(model,loss)\n",
    "\n",
    "       # new_xpos = model.xpos - step_size*grad[2]\n",
    "       # new_ypos = model.xpos - step_size*grad[3] \n",
    "        #new_grad, test_dist, test_dist_bool = constrain_distances(model, new_xpos, new_ypos, grad) # apply constraint \n",
    "\n",
    "\n",
    "        # Gradient step\n",
    "        if optimizer_type == 'gd':\n",
    "            optimizer.apply_gradients(zip(grad,model.variables),global_step=tf.train.get_or_create_global_step())\n",
    "            # Projection step\n",
    "            tf_utils.project_to_aper_keras(model)\n",
    "\n",
    "        if optimizer_type == 'nesterov':\n",
    "\n",
    "            optimizer.apply_gradients(zip(grad,model.variables),global_step=tf.train.get_or_create_global_step())\n",
    "\n",
    "\n",
    "            # Projection step\n",
    "            tf_utils.project_to_aper_keras(model)\n",
    "\n",
    "            # Update variables for next loop\n",
    "            tk = tkp\n",
    "            [tf.assign(xk[n],xkp[n]) for n in range(nvars)]\n",
    "\n",
    "            # Get state after project (gradient_step(yk))\n",
    "            [tf.assign(xkp[n],model.variables[n]) for n in range(nvars)]\n",
    "\n",
    "            #Acceleration\n",
    "            tkp = 0.5*(1.0 + tf.sqrt(1.0 + 4*tf.square(tk)))\n",
    "\n",
    "            bkp = (tk - 1)/tkp\n",
    "            ykp = [xkp[n] + bkp*(xkp[n] - xk[n]) for n in range(nvars)]\n",
    "\n",
    "\n",
    "            # Update model variables (yk)\n",
    "            [model.variables[n].assign(ykp[n]) for n in range(nvars)]\n",
    "\n",
    "\n",
    "\n",
    "\n",
    "        T,aper,T2=tf_utils.make_lenslet_tf_zern(model)\n",
    "\n",
    "        losslist.append(lossvalue)\n",
    "        phase_err.append(.5*tf.norm(T - Tinit)**2/model.samples[0]/model.samples[1])\n",
    "\n",
    "        \n",
    "\n",
    "        ax[Tor,Toc].imshow(T)\n",
    "\n",
    "        l[0].remove()\n",
    "        l = ax[lr,lc].semilogy(losslist,'k')\n",
    "        ax[lr,lc].set_title('Loss')\n",
    "        \n",
    "        pl[0].remove()\n",
    "        pl = ax[per,pec].plot(phase_err,'k')\n",
    "        ax[per,pec].set_title('phase MSE')\n",
    "        \n",
    "        cb.remove()\n",
    "        imh.remove()\n",
    "        \n",
    "        imh = ax[Ter,Tec].imshow(1000*(T - Tinit))\n",
    "        ax[Ter,Tec].set_title('Phase error micron')\n",
    "        cb = plt.colorbar(imh,ax=ax[Ter,Tec])\n",
    "        \n",
    "        lh.remove()\n",
    "        lh = ax[xyr,xyc].scatter(model.xpos.numpy(),model.ypos.numpy(),c='b', marker='.',label='opt')\n",
    "        ax[xyr,xyc].legend()\n",
    "        ax[xyr,xyc].set_title('Positions')\n",
    "        \n",
    "        Rh[0].remove()\n",
    "        Rh = ax[Rr,Rc].semilogy(Rmat.numpy(),'k')\n",
    "        ax[Rr,Rc].set_title('Rmat')\n",
    "        \n",
    "        rh[0].remove()\n",
    "        rh = ax[rr,rc].plot(model.rlist.numpy(),'b.',label='opt')\n",
    "        ax[rr,rc].legend()\n",
    "        display.display(plt.gcf())\n",
    "        display.clear_output(wait=True)\n",
    "#     pl.remove?\n",
    "    \n",
    "\n",
    "\n",
    "#cbar = fig.colorbar(rshow)"
   ]
  },
  {
   "cell_type": "code",
   "execution_count": null,
   "metadata": {},
   "outputs": [],
   "source": [
    "lh = ax[xyr,xyc].scatter(model.xpos.numpy(),model.ypos.numpy(),c='b', marker='x')\n",
    "\n",
    "print(nvars)\n",
    "imh.remove()"
   ]
  },
  {
   "cell_type": "code",
   "execution_count": null,
   "metadata": {},
   "outputs": [],
   "source": [
    "n = 5\n",
    "sphere = tf.real(tf.sqrt(\n",
    "    tf.square(model.rlist[n])\n",
    "    - tf.square((model.xgm-model.xpos[n]))\n",
    "    - tf.square((model.ygm-model.ypos[n]))))\n",
    "\n",
    "piston = tf.real\n",
    "(\n",
    "    tf.sqrt\n",
    "    (\n",
    "        tf.square(model.rlist[n])-tf.square(model.mean_lenslet_CA)\n",
    "    )\n",
    ")"
   ]
  },
  {
   "cell_type": "code",
   "execution_count": null,
   "metadata": {},
   "outputs": [],
   "source": [
    "max(model.rlist.numpy())"
   ]
  },
  {
   "cell_type": "code",
   "execution_count": null,
   "metadata": {},
   "outputs": [],
   "source": [
    "print(model.rlist)"
   ]
  },
  {
   "cell_type": "code",
   "execution_count": null,
   "metadata": {},
   "outputs": [],
   "source": [
    "Tgd,_,_= tf_utils.make_lenslet_tf_zern(model)\n",
    "psf_zstack =  model.gen_psf_stack(Tgd,.9,.5)\n",
    "vup =.05\n",
    "#zdisp = 0\n",
    "f, ax = plt.subplots(2,2,figsize=(12,12))\n",
    "for zdisp in range(1):\n",
    "    ax[0,0].imshow(model.target_psf[zdisp],vmax = vup)\n",
    "    ax[0,0].set_title('target')\n",
    "    ax[0,1].imshow(psf_zstack[zdisp],vmax=vup)\n",
    "    ax[0,1].set_title('Optimized')\n",
    "    ax[1,0].imshow(Tinit)\n",
    "    ax[1,0].set_title('target')\n",
    "    \n",
    "    if zdisp != 0:\n",
    "        cb.remove()\n",
    "        e.remove()\n",
    "\n",
    "    e = ax[1,1].imshow(model.target_psf[zdisp] - psf_zstack[zdisp])\n",
    "   \n",
    "    ax[1,1].set_title('error')\n",
    "    cb = plt.colorbar(e,ax=ax[1,1])\n",
    "    \n",
    "    \n",
    "    display.display(f)\n",
    "    display.clear_output(wait=True)\n"
   ]
  },
  {
   "cell_type": "code",
   "execution_count": null,
   "metadata": {},
   "outputs": [],
   "source": [
    "plt.plot(rinit.numpy(),label='init')\n",
    "plt.plot(model.rlist.numpy(),label='opt')\n",
    "plt.legend()\n",
    "model_init.ypos.numpy() - model.ypos.numpy()"
   ]
  },
  {
   "cell_type": "code",
   "execution_count": null,
   "metadata": {},
   "outputs": [],
   "source": []
  }
 ],
 "metadata": {
  "kernelspec": {
   "display_name": "Python [conda env:eager-latest]",
   "language": "python",
   "name": "conda-env-eager-latest-py"
  },
  "language_info": {
   "codemirror_mode": {
    "name": "ipython",
    "version": 3
   },
   "file_extension": ".py",
   "mimetype": "text/x-python",
   "name": "python",
   "nbconvert_exporter": "python",
   "pygments_lexer": "ipython3",
   "version": "3.5.6"
  }
 },
 "nbformat": 4,
 "nbformat_minor": 2
}
