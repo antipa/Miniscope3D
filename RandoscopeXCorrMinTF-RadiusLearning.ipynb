{
 "cells": [
  {
   "cell_type": "code",
   "execution_count": 1,
   "metadata": {},
   "outputs": [],
   "source": [
    "import tensorflow as tf\n",
    "import tensorflow.contrib.eager as tfe\n",
    "tf.enable_eager_execution()\n",
    "\n",
    "%load_ext autoreload   \n",
    "%autoreload 2\n",
    "\n",
    "#Autoreloading of modules so you don't have to restart kernel after editing .py files"
   ]
  },
  {
   "cell_type": "code",
   "execution_count": 2,
   "metadata": {},
   "outputs": [
    {
     "data": {
      "text/html": [
       "<style>.container { width:95% !important; }</style>"
      ],
      "text/plain": [
       "<IPython.core.display.HTML object>"
      ]
     },
     "metadata": {},
     "output_type": "display_data"
    }
   ],
   "source": [
    "# import tensorflow as tf\n",
    "# import tensorflow.contrib.eager as tfe\n",
    "# tf.enable_eager_execution()\n",
    "\n",
    "import matplotlib.pyplot as plt\n",
    "import numpy as np\n",
    "from miniscope_utils_tf import *\n",
    "#import utils as krist\n",
    "import scipy.misc as sc\n",
    "from skimage.transform import resize as imresize\n",
    "%matplotlib inline\n",
    "from IPython.core.display import display, HTML\n",
    "display(HTML(\"<style>.container { width:95% !important; }</style>\"))\n",
    "from IPython import display\n",
    "import scipy.ndimage as ndim\n",
    "import scipy.misc as misc\n",
    "from scipy import signal\n",
    "from os import listdir\n",
    "from os.path import isfile, join\n",
    "import matplotlib.animation as animation\n",
    "from os import listdir\n",
    "from os.path import isfile, join\n",
    "import os\n",
    "import time\n",
    "from itertools import permutations\n",
    "from itertools import combinations\n",
    "#import copy\n",
    "#from bridson import poisson_disc_samples\n"
   ]
  },
  {
   "cell_type": "code",
   "execution_count": 3,
   "metadata": {
    "collapsed": true
   },
   "outputs": [],
   "source": [
    "#device = '/gpu:0'\n",
    "#print(tf.test.is_gpu_available())\n",
    "os.environ[\"CUDA_VISIBLE_DEVICES\"]=\"0\""
   ]
  },
  {
   "cell_type": "code",
   "execution_count": 4,
   "metadata": {
    "collapsed": true
   },
   "outputs": [],
   "source": [
    "#model and loss\n",
    "class Model(tf.keras.Model):\n",
    "    def __init__(self, ):\n",
    "        super(Model, self).__init__()\n",
    "        \n",
    "        self.samples = (768,768)   #Grid for PSF simulation\n",
    "\n",
    "        # min and max lenslet focal lengths in mm\n",
    "        self.fmin = 6.\n",
    "        self.fmax = 20.\n",
    "        self.ior = 1.56\n",
    "        self.lam=510e-6\n",
    "        \n",
    "        # Min and max lenslet radii\n",
    "        self.Rmin = self.fmin*(self.ior-1.)\n",
    "        self.Rmax = self.fmax*(self.ior-1.)\n",
    "\n",
    "        # Convert to curvatures\n",
    "        self.cmin = 1/self.Rmax\n",
    "        self.cmax = 1/self.Rmin\n",
    "        self.xgrng = np.array((-1.8, 1.8)).astype('float32')    #Range, in mm, of grid of the whole plane (not just grin)\n",
    "        self.ygrng = np.array((-1.8, 1.8)).astype('float32')\n",
    "\n",
    "        self.t = 10.    #Distance to sensor from mask in mm\n",
    "\n",
    "        #Compute depth range of virtual image that mask sees (this is assuming an objective is doing some magnification)\n",
    "\n",
    "        self.zmin_virtual = 1./(1./self.t - 1./self.fmin)\n",
    "        self.zmax_virtual = 1./(1./self.t - 1./self.fmax)\n",
    "        self.CA = .9; #semi clear aperature of GRIN\n",
    "        self.mean_lenslet_CA = .175 #average lenslest semi clear aperture in mm. \n",
    "            \n",
    "        #Getting number of lenslets and z planes needed as well as defocus list\n",
    "        self.ps = (self.xgrng[1] - self.xgrng[0])/self.samples[0]\n",
    "        self.Nlenslets=np.int(np.floor((self.CA**2)/(self.mean_lenslet_CA**2)))\n",
    "        self.Nz = np.ceil(np.sqrt(self.Nlenslets*2)).astype('int') #number of Zplanes \n",
    "        self.zsampling = 'fixed'\n",
    "        if self.zsampling is 'fixed':\n",
    "            self.defocus_list = 1./(np.linspace(1/self.zmin_virtual, 1./self.zmax_virtual, self.Nz)) #mm or dioptres\n",
    "            \n",
    "        self.min_offset= -10e-3\n",
    "        self.max_offset= 50e-3\n",
    "        self.lenslet_offset=tfe.Variable(tf.zeros(self.Nlenslets),name='offset', dtype = tf.float32,constraint=lambda t: tf.clip_by_value(t,self.min_offset, self.max_offset))\n",
    "        #initializing the x and y positions\n",
    "        [xpos,ypos, rlist]=poissonsampling_circular(self)\n",
    "        \n",
    "        self.min_r= self.Rmin\n",
    "        self.max_r= self.Rmax\n",
    "        self.rlist = tfe.Variable(rlist,name='rlist', dtype = tf.float32,constraint=lambda t: tf.clip_by_value(t,self.min_r, self.max_r))\n",
    "        #self.xpos = tfe.Variable(xpos, name='xpos', dtype = tf.float32, constraint=lambda t: tf.clip_by_value(t,-self.CA, self.CA))\n",
    "        #self.ypos = tfe.Variable(ypos, name='ypos', dtype = tf.float32, constraint=lambda t: tf.clip_by_value(t,-self.CA, self.CA))\n",
    "        self.xpos = tfe.Variable(xpos, name='xpos', dtype = tf.float32)\n",
    "        self.ypos = tfe.Variable(ypos, name='ypos', dtype = tf.float32)\n",
    "        #parameters for making the lenslet surface\n",
    "        self.yg = tf.constant(np.linspace(self.ygrng[0], self.ygrng[1], self.samples[0]),dtype=tf.float32)\n",
    "        self.xg=tf.constant(np.linspace(self.xgrng[0], self.xgrng[1], self.samples[1]),dtype=tf.float32)\n",
    "        self.px=tf.constant(self.xg[1] - self.xg[0],tf.float32)\n",
    "        self.py=tf.constant(self.yg[1] - self.yg[0],tf.float32)\n",
    "        self.xgm, self.ygm = tf.meshgrid(self.xg,self.yg)\n",
    "\n",
    "        #PSF generation parameters\n",
    "        self.lam=tf.constant(510.*10.**(-6.),dtype=tf.float32)\n",
    "        self.k = np.pi*2./self.lam\n",
    "        \n",
    "        fx = tf.constant(np.linspace(-1./(2.*self.ps),1./(2.*self.ps),self.samples[1]),dtype=tf.float32)\n",
    "        fy = tf.constant(np.linspace(-1./(2.*self.ps),1./(2.*self.ps),self.samples[0]),dtype=tf.float32)\n",
    "        self.Fx,self.Fy = tf.meshgrid(fx,fy)\n",
    "        self.field_list = tf.constant(np.array((0., 0.)).astype('float32'))\n",
    "        \n",
    "        self.corr_pad_frac = .5\n",
    "        self.target_res = 6 # micron   \n",
    "        sig = 2*self.target_res/(2.355) * 1e-3\n",
    "        real_target = tf.exp(-(tf.square(self.xgm) + tf.square(self.ygm))/(2*tf.square(sig)))\n",
    "        real_target = pad_frac_tf(real_target / tf.reduce_max(real_target), self.corr_pad_frac)\n",
    "        self.target_F = tf.abs(tf.fft2d(tf.complex(tf_fftshift(real_target), 0.)))\n",
    "        \n",
    "        \n",
    "        # Set regularization. Problem will be treated as l1 of spectral error at each depth + tau * l_inf(cross_corr)\n",
    "        self.cross_corr_norm = 'inf'\n",
    "        self.tau = tf.constant(100,tf.float32)    #Extra weight for cross correlation terms\n",
    "        \n",
    "    def call(self, inputs):\n",
    "        if self.zsampling is \"uniform_random\":\n",
    "            self.defocus_list = 1/np.sort(np.random.uniform(low = 1/self.zmin_virtual, high = 1./self.zmax_virtual, size = (self.Nz,)))\n",
    "        T,aper=make_lenslet_tf(self) #offset added\n",
    "        # Get psf stack\n",
    "        zstack = self.gen_psf_stack(T, aper, 0.5)\n",
    "        \n",
    "        psf_spect = self.gen_stack_spectrum(zstack)\n",
    "\n",
    "        normsize=tf.to_float(tf.shape(psf_spect)[0]*tf.shape(psf_spect)[1])\n",
    "        \n",
    "        Rmat_tf_diag = []\n",
    "        Rmat_tf_off_diag = []\n",
    "        #calculating Xcorr\n",
    "        \n",
    "        \n",
    "        # This now computes diagonals and off-diagonals separately then concatenates them. this makes is easier to \"find\" the diagonals/off diagonals for separate treatment  later.\n",
    "        for z1 in range(self.Nz):\n",
    "            for z2 in range(z1, self.Nz):\n",
    "                Fcorr = tf.conj(psf_spect[z1])*psf_spect[z2]\n",
    "                if z1 == z2:\n",
    "                    # Difference between autocorrelation and target bandwidth\n",
    "                    \n",
    "                    Rmat_tf_diag.append(tf.reduce_sum(tf.square((tf.abs(Fcorr) - self.target_F)/normsize)))\n",
    "                    \n",
    "                else:\n",
    "                    # Target is zero for cross correlation\n",
    "                    if self.cross_corr_norm is 'l2':\n",
    "                        Rmat_tf_off_diag.append(2 * self.tau * tf.reduce_sum(tf.square(tf.abs(Fcorr)/normsize)))  #changed to one norm\n",
    "                    elif self.cross_corr_norm is 'inf':\n",
    "                        Rmat_tf_off_diag.append(2 * self.tau * tf.reduce_max(tf.abs(tf.ifft2d(Fcorr))))\n",
    "        Rmat_tf = tf.concat([Rmat_tf_diag, Rmat_tf_off_diag],0)\n",
    "                        \n",
    "                        \n",
    "                        \n",
    "                \n",
    "                    \n",
    "                    \n",
    "            \n",
    "\n",
    "        #Rmat=tf.reshape(Rmat_tf,(self.Nz,self.Nz))\n",
    "            \n",
    "        return Rmat_tf #note this returns int data type!! vector not matrix. This is also my loss!\n",
    "    \n",
    "    def gen_correlation_stack(self,psf_spect):\n",
    "        Fcorr=[]\n",
    "        for z1 in range(self.Nz):\n",
    "            for z2 in range(self.Nz):\n",
    "                Fcorr.append(tf_fftshift(tf.ifft2d(tf.conj(psf_spect[z1])*psf_spect[z2])))\n",
    "\n",
    "        return Fcorr\n",
    "        \n",
    "    def gen_psf_stack(self, T, aper, prop_pad):\n",
    "        zstack = []\n",
    "        for defocus in self.defocus_list:\n",
    "            zstack.append(gen_psf_ag_tf(T,self,defocus,'angle',0., prop_pad))\n",
    "        return zstack\n",
    "    \n",
    "    def gen_stack_spectrum(self, zstack):\n",
    "                #Padding for fft\n",
    "        psf_pad=[]\n",
    "#         Rmat = np.zeros((self.Nz,self.Nz))\n",
    "\n",
    "        for z1 in range(self.Nz):\n",
    "            psf_pad.append(pad_frac_tf(zstack[z1],self.corr_pad_frac)) #how much to pad? \n",
    "\n",
    "        psf_spect=[]\n",
    "        \n",
    "        #Getting spectrum\n",
    "\n",
    "        for z1 in range(self.Nz):\n",
    "            psf_spect.append(tf.fft2d(tf.complex(tf_fftshift(psf_pad[z1]),tf.constant(0.,dtype = tf.float32))))\n",
    "\n",
    "        return psf_spect"
   ]
  },
  {
   "cell_type": "code",
   "execution_count": 5,
   "metadata": {
    "collapsed": true
   },
   "outputs": [],
   "source": [
    "def distances(model, x,y):\n",
    "    dist = []\n",
    "    dist_bool = []\n",
    "    things = np.arange(model.Nlenslets)\n",
    "    test_perm = list(permutations(things, 2))\n",
    "\n",
    "    for i in range(0, len(test_perm)):\n",
    "        dist_i = tf.sqrt(tf.square(x[test_perm[i][0]]-x[test_perm[i][1]])+tf.square(y[test_perm[i][0]]-y[test_perm[i][1]]))\n",
    "        dist.append(dist_i)\n",
    "        dist_bool.append(dist_i>0*model.mean_lenslet_CA)  ##fix later\n",
    "        \n",
    "    return dist, dist_bool, test_perm\n",
    "\n",
    "        "
   ]
  },
  {
   "cell_type": "code",
   "execution_count": null,
   "metadata": {},
   "outputs": [],
   "source": []
  },
  {
   "cell_type": "code",
   "execution_count": 6,
   "metadata": {
    "scrolled": false
   },
   "outputs": [
    {
     "data": {
      "text/plain": [
       "[<matplotlib.lines.Line2D at 0x17181567908>]"
      ]
     },
     "execution_count": 6,
     "metadata": {},
     "output_type": "execute_result"
    },
    {
     "data": {
      "image/png": "[encoded data removed]",
      "text/plain": [
       "<Figure size 1500x500 with 2 Axes>"
      ]
     },
     "metadata": {},
     "output_type": "display_data"
    }
   ],
   "source": [
    "#start = time.time()\n",
    "#with tf.device(\"/gpu:0\"):\n",
    "#    zstack=model(0)\n",
    "#end = time.time()\n",
    "#print(end - start)\n",
    "#with tf.device(\"/cpu:0\"):\n",
    "model = Model()\n",
    "Rmat=model(0)\n",
    "R_init = Rmat\n",
    "Tinit,_=make_lenslet_tf(model)\n",
    "\n",
    "xinit = tf.Variable(tf.zeros(model.Nlenslets))\n",
    "tf.assign(xinit, model.xpos)\n",
    "\n",
    "\n",
    "yinit = tf.Variable(tf.zeros(model.Nlenslets))\n",
    "tf.assign(yinit, model.ypos)\n",
    "\n",
    "rinit = tf.Variable(tf.zeros(model.Nlenslets))\n",
    "tf.assign(rinit, model.rlist)\n",
    "\n",
    "offsetinit = tf.Variable(tf.zeros(model.Nlenslets))\n",
    "tf.assign(offsetinit, model.lenslet_offset)\n",
    "\n",
    "\n",
    "fig=plt.figure(figsize=(15,5))\n",
    "plt.subplot(1,2,1)\n",
    "plt.imshow(Tinit.numpy())\n",
    "plt.subplot(1,2,2)\n",
    "plt.plot(R_init.numpy())\n"
   ]
  },
  {
   "cell_type": "code",
   "execution_count": 7,
   "metadata": {
    "collapsed": true
   },
   "outputs": [],
   "source": [
    "#model.load_weights(\"C:\\\\Users\\\\herbtipa\\\\lenslets_one_per_depth\")\n"
   ]
  },
  {
   "cell_type": "code",
   "execution_count": 8,
   "metadata": {},
   "outputs": [
    {
     "data": {
      "image/png": "[encoded data removed]",
      "text/plain": [
       "<Figure size 1500x300 with 1 Axes>"
      ]
     },
     "metadata": {},
     "output_type": "display_data"
    }
   ],
   "source": [
    "fig = plt.figure(figsize=(15,3))\n",
    "T,aper=make_lenslet_tf(model)\n",
    "test2 = model.gen_psf_stack(T, aper, .5)\n",
    "test = model.gen_stack_spectrum(test2)\n",
    "test3=model.gen_correlation_stack(test)\n",
    "#ax[0].imshow(T)\n",
    "\n",
    "\n",
    "for z in range(1):\n",
    "    #ax[1].imshow(tf_fftshift(tf.abs((test[z] * tf.conj(test[z])))), vmin = 0, vmax = 50)\n",
    "    #ax[2].imshow(tf_fftshift(tf.abs((test[z] * tf.conj(test[z]))) - model.target_F), vmin = -50, vmax = 50)\n",
    "    plt.cla()\n",
    "    #ax[1].imshow((tf.real((test[z] * tf.conj(test[z])))), vmax = 50)\n",
    "    plt.plot(np.abs(test3[z][model.samples[0],:]))\n",
    "\n",
    "    display.display(fig)\n",
    "    display.clear_output(wait=True)\n",
    "    plt.pause(.5)"
   ]
  },
  {
   "cell_type": "code",
   "execution_count": 9,
   "metadata": {},
   "outputs": [
    {
     "data": {
      "text/plain": [
       "<matplotlib.image.AxesImage at 0x17181ed8cc0>"
      ]
     },
     "execution_count": 9,
     "metadata": {},
     "output_type": "execute_result"
    },
    {
     "data": {
      "text/plain": [
       "<Figure size 600x400 with 0 Axes>"
      ]
     },
     "metadata": {},
     "output_type": "display_data"
    },
    {
     "data": {
      "image/png": "[encoded data removed]",
      "text/plain": [
       "<Figure size 2000x2000 with 3 Axes>"
      ]
     },
     "metadata": {},
     "output_type": "display_data"
    }
   ],
   "source": [
    "\n",
    "T,aper=make_lenslet_tf(model)\n",
    "test2 = model.gen_psf_stack(T, aper, .5)\n",
    "test = model.gen_stack_spectrum(test2)\n",
    "fig = plt.figure()\n",
    "test3=model.gen_correlation_stack(test)\n",
    "f,ax = plt.subplots(1,3,figsize=(20,20))\n",
    "\n",
    "ax[0].imshow(T)\n",
    "\n",
    "\n",
    "# for z in range(model.Nz):\n",
    "#     ax[1].imshow(tf_fftshift(tf.abs((test[z] * tf.conj(test[z])))), vmin = 0, vmax = 50)\n",
    "#     ax[2].imshow(tf_fftshift(tf.abs((test[z] * tf.conj(test[z]))) - model.target_F), vmin = -50, vmax = 50)\n",
    "#     #ax[1].imshow((tf.real((test[z] * tf.conj(test[z])))), vmax = 50)\n",
    "#     #ax[1].imshow((tf.real((test2[z]))))\n",
    "\n",
    "#     display.display(f)\n",
    "#     display.clear_output(wait=True)\n",
    "#     #plt.pause(.5)"
   ]
  },
  {
   "cell_type": "code",
   "execution_count": null,
   "metadata": {},
   "outputs": [],
   "source": []
  },
  {
   "cell_type": "code",
   "execution_count": 10,
   "metadata": {
    "collapsed": true
   },
   "outputs": [],
   "source": [
    "#have tf do everything for us\n",
    "def loss (model):\n",
    "    Rmat = model(0)\n",
    "    return tf.reduce_sum(tf.square(Rmat)), Rmat\n",
    "\n",
    "def loss_sum(model):\n",
    "    Rmat = model(0)\n",
    "    return tf.reduce_sum(Rmat), Rmat\n",
    "\n",
    "def loss_inf(model):\n",
    "    Rmat = model(0)\n",
    "    return tf.reduce_max(Rmat), Rmat\n",
    "\n",
    "def loss_mixed(model):\n",
    "    # max of off diags, sum of diags\n",
    "    Rmat = model(0)\n",
    "    diag_vec = Rmat[0:model.Nz]\n",
    "    off_diag = Rmat[model.Nz+1:-1]\n",
    "    return tf.reduce_sum(tf.abs(diag_vec)) + tf.reduce_max(off_diag), Rmat\n",
    "\n",
    "def gradient (model, myloss):\n",
    "    with tf.GradientTape() as tape:\n",
    "        lossvalue, Rmat = myloss(model)\n",
    "        return tape.gradient(lossvalue, model.variables),lossvalue, Rmat\n",
    "    "
   ]
  },
  {
   "cell_type": "code",
   "execution_count": 11,
   "metadata": {
    "collapsed": true
   },
   "outputs": [],
   "source": [
    "def constrain_distances(model, new_xpos, new_ypos, grads):\n",
    "    test_dist, test_dist_bool, perm = distances(model, new_xpos, new_ypos)\n",
    "    grads = np.ones((2,model.Nlenslets))\n",
    "    for i in range(0,len(perm)):\n",
    "        if test_dist_bool[i].numpy() == False:\n",
    "            index = perm[i][0]\n",
    "            grads[0,index] = 0\n",
    "            grads[1,index] = 0\n",
    "    return grads, test_dist, test_dist_bool"
   ]
  },
  {
   "cell_type": "code",
   "execution_count": 12,
   "metadata": {
    "collapsed": true
   },
   "outputs": [],
   "source": [
    "# tk = tf.constant(1,tf.float32)\n",
    "# tkp = tf.constant(1,tf.float32)\n",
    "# xk = model.variables\n",
    "# xkp = model.variables\n",
    "# nvars = np.shape(xk)[0]\n",
    "# for i in range(10):\n",
    "#     tkp = 0.5*(1.0 + tf.sqrt(1.0 + 4*tf.square(tk)))\n",
    "#     tk = tkp\n",
    "#     bkp = (tk - 1)/tkp\n",
    "#     ykp = [xkp[n] + bkp*(xkp[n] - xk[n]) for n in range(nvars)]\n",
    "    \n",
    "#     [model.variables[n].assign(ykp[n]) for n in range(nvars)]\n",
    "#     print(ykp)\n",
    "#     #print(xk)\n",
    "#     print(tk)\n",
    "#     print(beta_k)"
   ]
  },
  {
   "cell_type": "code",
   "execution_count": 13,
   "metadata": {
    "collapsed": true
   },
   "outputs": [],
   "source": [
    "# [model.variables[n].assign(tf.zeros([26])) for n in range(np.shape(xk)[0])]\n"
   ]
  },
  {
   "cell_type": "code",
   "execution_count": 14,
   "metadata": {
    "scrolled": false
   },
   "outputs": [
    {
     "ename": "KeyboardInterrupt",
     "evalue": "",
     "output_type": "error",
     "traceback": [
      "\u001b[1;31m---------------------------------------------------------------------------\u001b[0m",
      "\u001b[1;31mKeyboardInterrupt\u001b[0m                         Traceback (most recent call last)",
      "\u001b[1;32m<ipython-input-14-382f67f1d74c>\u001b[0m in \u001b[0;36m<module>\u001b[1;34m()\u001b[0m\n\u001b[0;32m     17\u001b[0m \u001b[1;33m\u001b[0m\u001b[0m\n\u001b[0;32m     18\u001b[0m \u001b[1;32mfor\u001b[0m \u001b[0mi\u001b[0m \u001b[1;32min\u001b[0m \u001b[0mrange\u001b[0m\u001b[1;33m(\u001b[0m\u001b[1;36m70\u001b[0m\u001b[1;33m)\u001b[0m\u001b[1;33m:\u001b[0m\u001b[1;33m\u001b[0m\u001b[0m\n\u001b[1;32m---> 19\u001b[1;33m     \u001b[0mgrad\u001b[0m\u001b[1;33m,\u001b[0m\u001b[0mlossvalue\u001b[0m\u001b[1;33m,\u001b[0m \u001b[0mRmat\u001b[0m\u001b[1;33m=\u001b[0m\u001b[0mgradient\u001b[0m\u001b[1;33m(\u001b[0m\u001b[0mmodel\u001b[0m\u001b[1;33m,\u001b[0m\u001b[0mloss_sum\u001b[0m\u001b[1;33m)\u001b[0m\u001b[1;33m\u001b[0m\u001b[0m\n\u001b[0m\u001b[0;32m     20\u001b[0m \u001b[1;33m\u001b[0m\u001b[0m\n\u001b[0;32m     21\u001b[0m    \u001b[1;31m# new_xpos = model.xpos - step_size*grad[2]\u001b[0m\u001b[1;33m\u001b[0m\u001b[1;33m\u001b[0m\u001b[0m\n",
      "\u001b[1;32m<ipython-input-10-ef0bf7de7dfa>\u001b[0m in \u001b[0;36mgradient\u001b[1;34m(model, myloss)\u001b[0m\n\u001b[0;32m     22\u001b[0m     \u001b[1;32mwith\u001b[0m \u001b[0mtf\u001b[0m\u001b[1;33m.\u001b[0m\u001b[0mGradientTape\u001b[0m\u001b[1;33m(\u001b[0m\u001b[1;33m)\u001b[0m \u001b[1;32mas\u001b[0m \u001b[0mtape\u001b[0m\u001b[1;33m:\u001b[0m\u001b[1;33m\u001b[0m\u001b[0m\n\u001b[0;32m     23\u001b[0m         \u001b[0mlossvalue\u001b[0m\u001b[1;33m,\u001b[0m \u001b[0mRmat\u001b[0m \u001b[1;33m=\u001b[0m \u001b[0mmyloss\u001b[0m\u001b[1;33m(\u001b[0m\u001b[0mmodel\u001b[0m\u001b[1;33m)\u001b[0m\u001b[1;33m\u001b[0m\u001b[0m\n\u001b[1;32m---> 24\u001b[1;33m         \u001b[1;32mreturn\u001b[0m \u001b[0mtape\u001b[0m\u001b[1;33m.\u001b[0m\u001b[0mgradient\u001b[0m\u001b[1;33m(\u001b[0m\u001b[0mlossvalue\u001b[0m\u001b[1;33m,\u001b[0m \u001b[0mmodel\u001b[0m\u001b[1;33m.\u001b[0m\u001b[0mvariables\u001b[0m\u001b[1;33m)\u001b[0m\u001b[1;33m,\u001b[0m\u001b[0mlossvalue\u001b[0m\u001b[1;33m,\u001b[0m \u001b[0mRmat\u001b[0m\u001b[1;33m\u001b[0m\u001b[0m\n\u001b[0m\u001b[0;32m     25\u001b[0m \u001b[1;33m\u001b[0m\u001b[0m\n",
      "\u001b[1;32mC:\\Anaconda3\\lib\\site-packages\\tensorflow\\python\\eager\\backprop.py\u001b[0m in \u001b[0;36mgradient\u001b[1;34m(self, target, sources, output_gradients)\u001b[0m\n\u001b[0;32m    899\u001b[0m         \u001b[0mnest\u001b[0m\u001b[1;33m.\u001b[0m\u001b[0mflatten\u001b[0m\u001b[1;33m(\u001b[0m\u001b[0mtarget\u001b[0m\u001b[1;33m)\u001b[0m\u001b[1;33m,\u001b[0m\u001b[1;33m\u001b[0m\u001b[0m\n\u001b[0;32m    900\u001b[0m         \u001b[0mflat_sources\u001b[0m\u001b[1;33m,\u001b[0m\u001b[1;33m\u001b[0m\u001b[0m\n\u001b[1;32m--> 901\u001b[1;33m         output_gradients=output_gradients)\n\u001b[0m\u001b[0;32m    902\u001b[0m \u001b[1;33m\u001b[0m\u001b[0m\n\u001b[0;32m    903\u001b[0m     \u001b[1;32mif\u001b[0m \u001b[1;32mnot\u001b[0m \u001b[0mself\u001b[0m\u001b[1;33m.\u001b[0m\u001b[0m_persistent\u001b[0m\u001b[1;33m:\u001b[0m\u001b[1;33m\u001b[0m\u001b[0m\n",
      "\u001b[1;32mC:\\Anaconda3\\lib\\site-packages\\tensorflow\\python\\eager\\imperative_grad.py\u001b[0m in \u001b[0;36mimperative_grad\u001b[1;34m(tape, target, sources, output_gradients)\u001b[0m\n\u001b[0;32m     62\u001b[0m       \u001b[0mtarget\u001b[0m\u001b[1;33m,\u001b[0m\u001b[1;33m\u001b[0m\u001b[0m\n\u001b[0;32m     63\u001b[0m       \u001b[0msources\u001b[0m\u001b[1;33m,\u001b[0m\u001b[1;33m\u001b[0m\u001b[0m\n\u001b[1;32m---> 64\u001b[1;33m       output_gradients)\n\u001b[0m",
      "\u001b[1;32mC:\\Anaconda3\\lib\\site-packages\\tensorflow\\python\\eager\\backprop.py\u001b[0m in \u001b[0;36m_gradient_function\u001b[1;34m(op_name, attr_tuple, num_inputs, inputs, outputs, out_grads)\u001b[0m\n\u001b[0;32m    115\u001b[0m     \u001b[1;32mreturn\u001b[0m \u001b[1;33m[\u001b[0m\u001b[1;32mNone\u001b[0m\u001b[1;33m]\u001b[0m \u001b[1;33m*\u001b[0m \u001b[0mnum_inputs\u001b[0m\u001b[1;33m\u001b[0m\u001b[0m\n\u001b[0;32m    116\u001b[0m \u001b[1;33m\u001b[0m\u001b[0m\n\u001b[1;32m--> 117\u001b[1;33m   \u001b[1;32mreturn\u001b[0m \u001b[0mgrad_fn\u001b[0m\u001b[1;33m(\u001b[0m\u001b[0mmock_op\u001b[0m\u001b[1;33m,\u001b[0m \u001b[1;33m*\u001b[0m\u001b[0mout_grads\u001b[0m\u001b[1;33m)\u001b[0m\u001b[1;33m\u001b[0m\u001b[0m\n\u001b[0m\u001b[0;32m    118\u001b[0m \u001b[1;33m\u001b[0m\u001b[0m\n\u001b[0;32m    119\u001b[0m \u001b[1;33m\u001b[0m\u001b[0m\n",
      "\u001b[1;32mC:\\Anaconda3\\lib\\site-packages\\tensorflow\\python\\ops\\spectral_grad.py\u001b[0m in \u001b[0;36m_IFFT2DGrad\u001b[1;34m(_, grad)\u001b[0m\n\u001b[0;32m     54\u001b[0m \u001b[1;32mdef\u001b[0m \u001b[0m_IFFT2DGrad\u001b[0m\u001b[1;33m(\u001b[0m\u001b[0m_\u001b[0m\u001b[1;33m,\u001b[0m \u001b[0mgrad\u001b[0m\u001b[1;33m)\u001b[0m\u001b[1;33m:\u001b[0m\u001b[1;33m\u001b[0m\u001b[0m\n\u001b[0;32m     55\u001b[0m   rsize = math_ops.cast(\n\u001b[1;32m---> 56\u001b[1;33m       \u001b[1;36m1.\u001b[0m \u001b[1;33m/\u001b[0m \u001b[0mmath_ops\u001b[0m\u001b[1;33m.\u001b[0m\u001b[0mcast\u001b[0m\u001b[1;33m(\u001b[0m\u001b[0m_FFTSizeForGrad\u001b[0m\u001b[1;33m(\u001b[0m\u001b[0mgrad\u001b[0m\u001b[1;33m,\u001b[0m \u001b[1;36m2\u001b[0m\u001b[1;33m)\u001b[0m\u001b[1;33m,\u001b[0m \u001b[0mgrad\u001b[0m\u001b[1;33m.\u001b[0m\u001b[0mdtype\u001b[0m\u001b[1;33m.\u001b[0m\u001b[0mreal_dtype\u001b[0m\u001b[1;33m)\u001b[0m\u001b[1;33m,\u001b[0m\u001b[1;33m\u001b[0m\u001b[0m\n\u001b[0m\u001b[0;32m     57\u001b[0m       grad.dtype)\n\u001b[0;32m     58\u001b[0m   \u001b[1;32mreturn\u001b[0m \u001b[0mspectral_ops\u001b[0m\u001b[1;33m.\u001b[0m\u001b[0mfft2d\u001b[0m\u001b[1;33m(\u001b[0m\u001b[0mgrad\u001b[0m\u001b[1;33m)\u001b[0m \u001b[1;33m*\u001b[0m \u001b[0mrsize\u001b[0m\u001b[1;33m\u001b[0m\u001b[0m\n",
      "\u001b[1;32mC:\\Anaconda3\\lib\\site-packages\\tensorflow\\python\\ops\\spectral_grad.py\u001b[0m in \u001b[0;36m_FFTSizeForGrad\u001b[1;34m(grad, rank)\u001b[0m\n\u001b[0;32m     28\u001b[0m \u001b[1;33m\u001b[0m\u001b[0m\n\u001b[0;32m     29\u001b[0m \u001b[1;32mdef\u001b[0m \u001b[0m_FFTSizeForGrad\u001b[0m\u001b[1;33m(\u001b[0m\u001b[0mgrad\u001b[0m\u001b[1;33m,\u001b[0m \u001b[0mrank\u001b[0m\u001b[1;33m)\u001b[0m\u001b[1;33m:\u001b[0m\u001b[1;33m\u001b[0m\u001b[0m\n\u001b[1;32m---> 30\u001b[1;33m   \u001b[1;32mreturn\u001b[0m \u001b[0mmath_ops\u001b[0m\u001b[1;33m.\u001b[0m\u001b[0mreduce_prod\u001b[0m\u001b[1;33m(\u001b[0m\u001b[0marray_ops\u001b[0m\u001b[1;33m.\u001b[0m\u001b[0mshape\u001b[0m\u001b[1;33m(\u001b[0m\u001b[0mgrad\u001b[0m\u001b[1;33m)\u001b[0m\u001b[1;33m[\u001b[0m\u001b[1;33m-\u001b[0m\u001b[0mrank\u001b[0m\u001b[1;33m:\u001b[0m\u001b[1;33m]\u001b[0m\u001b[1;33m)\u001b[0m\u001b[1;33m\u001b[0m\u001b[0m\n\u001b[0m\u001b[0;32m     31\u001b[0m \u001b[1;33m\u001b[0m\u001b[0m\n\u001b[0;32m     32\u001b[0m \u001b[1;33m\u001b[0m\u001b[0m\n",
      "\u001b[1;32mC:\\Anaconda3\\lib\\site-packages\\tensorflow\\python\\ops\\array_ops.py\u001b[0m in \u001b[0;36mshape\u001b[1;34m(input, name, out_type)\u001b[0m\n\u001b[0;32m    219\u001b[0m     \u001b[0mA\u001b[0m\u001b[0;31m \u001b[0m\u001b[0;31m`\u001b[0m\u001b[0mTensor\u001b[0m\u001b[0;31m`\u001b[0m \u001b[0mof\u001b[0m \u001b[0mtype\u001b[0m\u001b[0;31m \u001b[0m\u001b[0;31m`\u001b[0m\u001b[0mout_type\u001b[0m\u001b[0;31m`\u001b[0m\u001b[1;33m.\u001b[0m\u001b[1;33m\u001b[0m\u001b[0m\n\u001b[0;32m    220\u001b[0m   \"\"\"\n\u001b[1;32m--> 221\u001b[1;33m   \u001b[1;32mreturn\u001b[0m \u001b[0mshape_internal\u001b[0m\u001b[1;33m(\u001b[0m\u001b[0minput\u001b[0m\u001b[1;33m,\u001b[0m \u001b[0mname\u001b[0m\u001b[1;33m,\u001b[0m \u001b[0moptimize\u001b[0m\u001b[1;33m=\u001b[0m\u001b[1;32mTrue\u001b[0m\u001b[1;33m,\u001b[0m \u001b[0mout_type\u001b[0m\u001b[1;33m=\u001b[0m\u001b[0mout_type\u001b[0m\u001b[1;33m)\u001b[0m\u001b[1;33m\u001b[0m\u001b[0m\n\u001b[0m\u001b[0;32m    222\u001b[0m \u001b[1;33m\u001b[0m\u001b[0m\n\u001b[0;32m    223\u001b[0m \u001b[1;33m\u001b[0m\u001b[0m\n",
      "\u001b[1;32mC:\\Anaconda3\\lib\\site-packages\\tensorflow\\python\\ops\\array_ops.py\u001b[0m in \u001b[0;36mshape_internal\u001b[1;34m(input, name, optimize, out_type)\u001b[0m\n\u001b[0;32m    247\u001b[0m         \u001b[1;32mif\u001b[0m \u001b[0moptimize\u001b[0m \u001b[1;32mand\u001b[0m \u001b[0minput_shape\u001b[0m\u001b[1;33m.\u001b[0m\u001b[0mis_fully_defined\u001b[0m\u001b[1;33m(\u001b[0m\u001b[1;33m)\u001b[0m\u001b[1;33m:\u001b[0m\u001b[1;33m\u001b[0m\u001b[0m\n\u001b[0;32m    248\u001b[0m           \u001b[1;32mreturn\u001b[0m \u001b[0mconstant\u001b[0m\u001b[1;33m(\u001b[0m\u001b[0minput_shape\u001b[0m\u001b[1;33m.\u001b[0m\u001b[0mas_list\u001b[0m\u001b[1;33m(\u001b[0m\u001b[1;33m)\u001b[0m\u001b[1;33m,\u001b[0m \u001b[0mout_type\u001b[0m\u001b[1;33m,\u001b[0m \u001b[0mname\u001b[0m\u001b[1;33m=\u001b[0m\u001b[0mname\u001b[0m\u001b[1;33m)\u001b[0m\u001b[1;33m\u001b[0m\u001b[0m\n\u001b[1;32m--> 249\u001b[1;33m       \u001b[1;32mreturn\u001b[0m \u001b[0mgen_array_ops\u001b[0m\u001b[1;33m.\u001b[0m\u001b[0mshape\u001b[0m\u001b[1;33m(\u001b[0m\u001b[0minput\u001b[0m\u001b[1;33m,\u001b[0m \u001b[0mname\u001b[0m\u001b[1;33m=\u001b[0m\u001b[0mname\u001b[0m\u001b[1;33m,\u001b[0m \u001b[0mout_type\u001b[0m\u001b[1;33m=\u001b[0m\u001b[0mout_type\u001b[0m\u001b[1;33m)\u001b[0m\u001b[1;33m\u001b[0m\u001b[0m\n\u001b[0m\u001b[0;32m    250\u001b[0m \u001b[1;33m\u001b[0m\u001b[0m\n\u001b[0;32m    251\u001b[0m \u001b[1;33m\u001b[0m\u001b[0m\n",
      "\u001b[1;32mC:\\Anaconda3\\lib\\site-packages\\tensorflow\\python\\ops\\gen_array_ops.py\u001b[0m in \u001b[0;36mshape\u001b[1;34m(input, out_type, name)\u001b[0m\n\u001b[0;32m   8803\u001b[0m       _result = _pywrap_tensorflow.TFE_Py_FastPathExecute(\n\u001b[0;32m   8804\u001b[0m         \u001b[0m_ctx\u001b[0m\u001b[1;33m.\u001b[0m\u001b[0m_context_handle\u001b[0m\u001b[1;33m,\u001b[0m \u001b[0m_ctx\u001b[0m\u001b[1;33m.\u001b[0m\u001b[0m_eager_context\u001b[0m\u001b[1;33m.\u001b[0m\u001b[0mdevice_name\u001b[0m\u001b[1;33m,\u001b[0m \u001b[1;34m\"Shape\"\u001b[0m\u001b[1;33m,\u001b[0m \u001b[0mname\u001b[0m\u001b[1;33m,\u001b[0m\u001b[1;33m\u001b[0m\u001b[0m\n\u001b[1;32m-> 8805\u001b[1;33m         _ctx._post_execution_callbacks, input, \"out_type\", out_type)\n\u001b[0m\u001b[0;32m   8806\u001b[0m       \u001b[1;32mreturn\u001b[0m \u001b[0m_result\u001b[0m\u001b[1;33m\u001b[0m\u001b[0m\n\u001b[0;32m   8807\u001b[0m     \u001b[1;32mexcept\u001b[0m \u001b[0m_core\u001b[0m\u001b[1;33m.\u001b[0m\u001b[0m_FallbackException\u001b[0m\u001b[1;33m:\u001b[0m\u001b[1;33m\u001b[0m\u001b[0m\n",
      "\u001b[1;31mKeyboardInterrupt\u001b[0m: "
     ]
    },
    {
     "data": {
      "image/png": "[encoded data removed]",
      "text/plain": [
       "<Figure size 1500x500 with 3 Axes>"
      ]
     },
     "metadata": {},
     "output_type": "display_data"
    }
   ],
   "source": [
    "# FISTA\n",
    "step_size = 1e-9   #1e-8 works well for l2\n",
    "optimizer=tf.train.GradientDescentOptimizer(learning_rate=step_size)\n",
    "fig=plt.figure(figsize=(15,5))\n",
    "losslist=[]\n",
    "rmean=[]\n",
    "tk = tf.constant(1,tf.float32)\n",
    "tkp = tf.constant(1,tf.float32)\n",
    "\n",
    "#xkp = model.variables\n",
    "nvars = np.shape(model.variables)[0]\n",
    "xk = []\n",
    "xkp = []\n",
    "[xk.append(tf.Variable(tf.zeros(model.Nlenslets))) for n in range(nvars)]\n",
    "[xkp.append(tf.Variable(tf.zeros(model.Nlenslets))) for n in range(nvars)]\n",
    "[tf.assign(xkp[n],model.variables[n]) for n in range(nvars)]\n",
    "\n",
    "for i in range(70):\n",
    "    grad,lossvalue, Rmat=gradient(model,loss_sum)\n",
    "\n",
    "   # new_xpos = model.xpos - step_size*grad[2]\n",
    "   # new_ypos = model.xpos - step_size*grad[3] \n",
    "\n",
    "    #new_grad, test_dist, test_dist_bool = constrain_distances(model, new_xpos, new_ypos, grad) # apply constraint \n",
    "    #print(new_grad)\n",
    "    \n",
    "#     # These are good parameters with step size 1e-8 for l2 loss\n",
    "#     grad[1] = grad[1] * 100000   #Radius\n",
    "#     grad[2]=grad[2]*10000 # X\n",
    "#     grad[3]=grad[3]*10000 # Y\n",
    "\n",
    "    grad[1] = grad[1] * 10000\n",
    "    grad[2] = grad[2] * 1000\n",
    "    grad[3] = grad[3] * 1000\n",
    "    #grad[2] = grad[2]*new_grad[0,:]*10000\n",
    "   # grad[3] = grad[3]*new_grad[1,:]*10000   # update the gradient\n",
    "#    grad[1] = grad[1]*\n",
    "    \n",
    "    #grads=remove_nan_gradients(grad)\n",
    "    #print(grads)\n",
    "    \n",
    "    # Gradient step\n",
    "    optimizer.apply_gradients(zip(grad,model.variables),global_step=tf.train.get_or_create_global_step())\n",
    "    \n",
    "    # Projection step\n",
    "    project_to_aper_keras(model)\n",
    "    \n",
    "\n",
    "    \n",
    "    # Update variables for next loop\n",
    "    tk = tkp\n",
    "    [tf.assign(xk[n],xkp[n]) for n in range(nvars)]\n",
    "    \n",
    "    # Get state after project (gradient_step(yk))\n",
    "    [tf.assign(xkp[n],model.variables[n]) for n in range(nvars)]\n",
    "    \n",
    "    #Acceleration\n",
    "    tkp = 0.5*(1.0 + tf.sqrt(1.0 + 4*tf.square(tk)))\n",
    "\n",
    "    bkp = (tk - 1)/tkp\n",
    "    ykp = [xkp[n] + bkp*(xkp[n] - xk[n]) for n in range(nvars)]\n",
    "    \n",
    "\n",
    "    \n",
    "    \n",
    "    # Update model variables (yk)\n",
    "    [model.variables[n].assign(ykp[n]) for n in range(nvars)]\n",
    "    \n",
    "    T,aper=make_lenslet_tf(model)\n",
    "\n",
    "    losslist.append(lossvalue)\n",
    "    plt.subplot(1,3,1)\n",
    "    plt.cla()\n",
    "    #plt.plot(model.xpos.numpy(),model.ypos.numpy(),'o')\n",
    "    #plt.axis('equal')\n",
    "    #rmean.append(tf.reduce_mean(model.rlist.numpy()))\n",
    "    #plt.plot(rmean)\n",
    "    plt.imshow(T.numpy())\n",
    "    plt.subplot(1,3,2)\n",
    "    plt.cla()\n",
    "    plt.semilogy(losslist)\n",
    "    \n",
    "    plt.subplot(1,3,3)\n",
    "    plt.cla()\n",
    "\n",
    "    #rshow = plt.imshow(np.tril(Rmat[model.Nz+1:-1])\n",
    "#     cbar = fig.colorbar(rshow)    \n",
    "    pl = plt.plot(Rmat.numpy(),'k.')\n",
    "    \n",
    "    display.display(plt.gcf())\n",
    "    display.clear_output(wait=True)\n",
    "    pl.clear()\n",
    "    display.display(plt.gcf())\n",
    "    display.clear_output(wait=True)\n",
    "#     pl.remove?\n",
    "    \n",
    "\n",
    "\n",
    "#cbar = fig.colorbar(rshow)"
   ]
  },
  {
   "cell_type": "code",
   "execution_count": null,
   "metadata": {
    "collapsed": true,
    "scrolled": true
   },
   "outputs": [],
   "source": [
    "# print(xk[1] - xkp[1])\n",
    "# print(tkp)\n",
    "# losslist_n = losslist\n",
    "# print(losslist_n)"
   ]
  },
  {
   "cell_type": "code",
   "execution_count": null,
   "metadata": {},
   "outputs": [],
   "source": [
    "# Re-initialize model\n",
    "model.xpos.assign(xinit)\n",
    "model.ypos.assign(yinit)\n",
    "model.lenslet_offset.assign(offsetinit)\n",
    "model.rlist.assign(rinit)\n",
    "print(model.xpos)"
   ]
  },
  {
   "cell_type": "code",
   "execution_count": null,
   "metadata": {},
   "outputs": [],
   "source": [
    "#[model.variables[n].assign(init_vars) for n in range(nvars)]\n",
    "# Gradient descent\n",
    "step_size = 1e-9\n",
    "optimizer=tf.train.GradientDescentOptimizer(learning_rate=step_size)\n",
    "fig=plt.figure(figsize=(15,5))\n",
    "losslist=[]\n",
    "rmean=[]\n",
    "tk = tf.constant(1,tf.float32)\n",
    "tkp = tf.constant(1,tf.float32)\n",
    "# xk = model.variables\n",
    "# xkp = model.variables\n",
    "# nvars = np.shape(xk)[0]\n",
    "for i in range(70):\n",
    "    grad,lossvalue, Rmat=gradient(model,loss_sum)\n",
    "\n",
    "   # new_xpos = model.xpos - step_size*grad[2]\n",
    "   # new_ypos = model.xpos - step_size*grad[3] \n",
    "\n",
    "    #new_grad, test_dist, test_dist_bool = constrain_distances(model, new_xpos, new_ypos, grad) # apply constraint \n",
    "    #print(new_grad)\n",
    "    grad[1] = grad[1] * 100000  #Radius\n",
    "    grad[2]=grad[2]*10000 # X\n",
    "    grad[3]=grad[3]*10000 # Y\n",
    "    #grad[2] = grad[2]*new_grad[0,:]*10000\n",
    "   # grad[3] = grad[3]*new_grad[1,:]*10000   # update the gradient\n",
    "#    grad[1] = grad[1]*\n",
    "    \n",
    "    #grads=remove_nan_gradients(grad)\n",
    "    #print(grads)\n",
    "    \n",
    "    # Gradient step\n",
    "    optimizer.apply_gradients(zip(grad,model.variables),global_step=tf.train.get_or_create_global_step())\n",
    "    \n",
    "    # Projection step\n",
    "    project_to_aper_keras(model)\n",
    "    \n",
    "\n",
    "    \n",
    "    T,aper=make_lenslet_tf(model)\n",
    "\n",
    "    losslist.append(lossvalue)\n",
    "    plt.subplot(1,3,1)\n",
    "    plt.cla()\n",
    "    #plt.plot(model.xpos.numpy(),model.ypos.numpy(),'o')\n",
    "    #plt.axis('equal')\n",
    "    #rmean.append(tf.reduce_mean(model.rlist.numpy()))\n",
    "    #plt.plot(rmean)\n",
    "    plt.imshow(T.numpy())\n",
    "    plt.subplot(1,3,2)\n",
    "    plt.cla()\n",
    "    plt.semilogy(losslist)\n",
    "    \n",
    "    \n",
    "    plt.subplot(1,3,3)\n",
    "    plt.cla()\n",
    "\n",
    "    #rshow = plt.imshow(np.tril(Rmat[model.Nz+1:-1])\n",
    "#     cbar = fig.colorbar(rshow)    \n",
    "    pl = plt.plot(Rmat.numpy(),'k.')\n",
    "    \n",
    "    display.display(plt.gcf())\n",
    "    display.clear_output(wait=True)\n",
    "    pl.clear()\n",
    "#     cbar.remove()\n",
    "# cbar = fig.colorbar(rshow)"
   ]
  },
  {
   "cell_type": "code",
   "execution_count": null,
   "metadata": {},
   "outputs": [],
   "source": [
    "fig = plt.figure(figsize=(15,3))\n",
    "T,aper=make_lenslet_tf(model)\n",
    "test2 = model.gen_psf_stack(T, aper, .5)\n",
    "test = model.gen_stack_spectrum(test2)\n",
    "test4=model.gen_correlation_stack(test)\n",
    "#ax[0].imshow(T)\n",
    "\n",
    "\n",
    "# for z in range(len(test4)):\n",
    "\n",
    "#     #ax[1].imshow(tf_fftshift(tf.abs((test[z] * tf.conj(test[z])))), vmin = 0, vmax = 50)\n",
    "#     #ax[2].imshow(tf_fftshift(tf.abs((test[z] * tf.conj(test[z]))) - model.target_F), vmin = -50, vmax = 50)\n",
    "#     plt.cla()\n",
    "#     #ax[1].imshow((tf.real((test[z] * tf.conj(test[z])))), vmax = 50)\n",
    "#     plt.subplot(1,2,1)\n",
    "#     plt.plot(np.abs(test3[z][model.samples[0],:]))\n",
    "    \n",
    "#     plt.subplot(1,2,2)\n",
    "#     plt.plot(np.abs(test4[z][model.samples[0],:]))\n",
    "\n",
    "#     display.display(fig)\n",
    "#     display.clear_output(wait=True)\n",
    "#     plt.pause(.5)"
   ]
  },
  {
   "cell_type": "code",
   "execution_count": null,
   "metadata": {
    "collapsed": true
   },
   "outputs": [],
   "source": []
  },
  {
   "cell_type": "code",
   "execution_count": null,
   "metadata": {},
   "outputs": [],
   "source": [
    "plt.figure(figsize=(20,15))\n",
    "for z in range(7):\n",
    "\n",
    "    #ax[1].imshow(tf_fftshift(tf.abs((test[z] * tf.conj(test[z])))), vmin = 0, vmax = 50)\n",
    "    #ax[2].imshow(tf_fftshift(tf.abs((test[z] * tf.conj(test[z]))) - model.target_F), vmin = -50, vmax = 50)\n",
    "    #plt.cla()\n",
    "    #ax[1].imshow((tf.real((test[z] * tf.conj(test[z])))), vmax = 50)\n",
    "    plt.subplot(7,2,z*2+1)\n",
    "    ind = (model.Nz+1) * (z)\n",
    "    plt.plot(np.abs(test3[ind][model.samples[0],:]))\n",
    "    \n",
    "    plt.subplot(7,2,z*2+2)\n",
    "    plt.plot(np.abs(test4[ind][model.samples[0],:]))\n",
    "\n",
    "    #display.display(fig)\n",
    "    #display.clear_output(wait=True)\n",
    "    #plt.pause(.5)"
   ]
  },
  {
   "cell_type": "code",
   "execution_count": null,
   "metadata": {
    "collapsed": true
   },
   "outputs": [],
   "source": [
    "plt.imshow(tf.reshape(model(0),(model.Nz, model.Nz)))\n",
    "plt.colorbar()"
   ]
  },
  {
   "cell_type": "code",
   "execution_count": null,
   "metadata": {
    "collapsed": true
   },
   "outputs": [],
   "source": [
    "plt.plot(np.sort(1/model.rlist.numpy()),'o')"
   ]
  },
  {
   "cell_type": "code",
   "execution_count": null,
   "metadata": {
    "collapsed": true
   },
   "outputs": [],
   "source": [
    "model.lenslet_offset"
   ]
  },
  {
   "cell_type": "code",
   "execution_count": null,
   "metadata": {
    "scrolled": false
   },
   "outputs": [],
   "source": [
    "T,aper=make_lenslet_tf(model)\n",
    "test2 = model.gen_psf_stack(T, aper, 0.5)\n",
    "test = model.gen_stack_spectrum(test2)\n",
    "fig = plt.figure()\n",
    "\n",
    "f,ax = plt.subplots(1,2,figsize=(20,20))\n",
    "\n",
    "ax[0].imshow(T)\n",
    "\n",
    "\n",
    "for z in range(model.Nz):\n",
    "    #ax[1].imshow((tf.real((test[z] * tf.conj(test[z])))) - model.target_F, vmax = 50)\n",
    "    im_disp = ax[1].imshow((tf.real((test2[z]))),vmax = .3)\n",
    "    cbar = plt.colorbar(im_disp, ax=ax[1])\n",
    "    display.display(f)\n",
    "    display.clear_output(wait=True)\n",
    "    cbar.remove()\n",
    "    #plt.pause(1)"
   ]
  },
  {
   "cell_type": "code",
   "execution_count": null,
   "metadata": {
    "collapsed": true
   },
   "outputs": [],
   "source": [
    "def animate_zstack(i):\n",
    "#    ax[1].clear()\n",
    "    ax[1].imshow(tf.real(test2[i]),vmax = .1)"
   ]
  },
  {
   "cell_type": "code",
   "execution_count": null,
   "metadata": {
    "collapsed": true
   },
   "outputs": [],
   "source": [
    "#model.save_weights('C:\\\\Users\\\\herbtipa\\\\lenslets_one_per_depth.hd5',overwrite=False)"
   ]
  },
  {
   "cell_type": "code",
   "execution_count": null,
   "metadata": {},
   "outputs": [],
   "source": [
    "f,ax = plt.subplots(1,2,figsize=(20,20))\n",
    "ax[0].imshow(T)\n",
    "ani = animation.FuncAnimation(f, animate_zstack, frames = range(model.Nz), interval = 500, repeat = False)\n",
    "# plt.show(ani)\n",
    "#Writer = animation.writers['ffmpeg']\n",
    "\n",
    "# HTML(ani.to_html5_video())\n",
    "for i in range(model.Nz):\n",
    "    animate_zstack(i)\n",
    "    display.display(f)\n",
    "    display.clear_output(wait=True)\n",
    "    f.savefig('C:\\\\Users\\\\herbtipa\\\\foo_{}.png'.format(i))\n",
    "    \n",
    "\n"
   ]
  },
  {
   "cell_type": "code",
   "execution_count": null,
   "metadata": {},
   "outputs": [],
   "source": [
    "\n",
    "\n",
    "f = plt.figure(figsize = (15,15))\n",
    "ims = []\n",
    "\n",
    "xcorr12 = tf_fftshift(tf.ifft2d(test[0]* tf.conj(test[0])))\n",
    "\n",
    "im_disp = plt.imshow(tf.abs(xcorr12))\n",
    "\n",
    "cbar = f.colorbar(im_disp)\n",
    "for z in range(1,model.Nz):\n",
    "    xcorr12 = tf_fftshift(tf.ifft2d(test[0]* tf.conj(test[z])))\n",
    "    \n",
    "    im_disp = plt.imshow(tf.abs(xcorr12))\n",
    "    cbar.remove()\n",
    "    cbar = f.colorbar(im_disp)\n",
    "    display.display(f)\n",
    "    display.clear_output(wait=True)\n",
    "    "
   ]
  },
  {
   "cell_type": "code",
   "execution_count": null,
   "metadata": {
    "collapsed": true
   },
   "outputs": [],
   "source": [
    "plt.figure()\n",
    "plt.imshow(tf.reshape(model(0), (model.Nz, model.Nz)))\n",
    "plt.colorbar()\n"
   ]
  },
  {
   "cell_type": "code",
   "execution_count": null,
   "metadata": {
    "collapsed": true
   },
   "outputs": [],
   "source": [
    "T,aper=make_lenslet_tf(model)\n",
    "test2 = model.gen_psf_stack(T, aper, .5)\n",
    "test = model.gen_stack_spectrum(test2)\n",
    "fig = plt.figure()\n",
    "\n",
    "f,ax = plt.subplots(1,3,figsize=(20,20))\n",
    "\n",
    "ax[0].imshow(T)\n",
    "\n",
    "\n",
    "# for z in range(model.Nz):\n",
    "#     ax[1].imshow(tf_fftshift(tf.abs((test[z] * tf.conj(test[z])))), vmin = 0, vmax = 50)\n",
    "#     ax[2].imshow(tf_fftshift(tf.abs((test[z] * tf.conj(test[z]))) - model.target_F), vmin = -50, vmax = 50)\n",
    "#     #ax[1].imshow((tf.real((test[z] * tf.conj(test[z])))), vmax = 50)\n",
    "#     #ax[1].imshow((tf.real((test2[z]))))\n",
    "\n",
    "#     display.display(f)\n",
    "#     display.clear_output(wait=True)\n",
    "#     plt.pause(.5)"
   ]
  },
  {
   "cell_type": "code",
   "execution_count": null,
   "metadata": {
    "collapsed": true
   },
   "outputs": [],
   "source": [
    "jacobian=[]\n",
    "for i in range (model.Nz**2):\n",
    "    with tf.GradientTape() as tape:\n",
    "        #tape.watch(model.variables)\n",
    "        R=model(0)\n",
    "        jacobian.append(tape.gradient(R[i], model.variables))\n"
   ]
  },
  {
   "cell_type": "code",
   "execution_count": null,
   "metadata": {
    "collapsed": true
   },
   "outputs": [],
   "source": [
    "tf.shape(jacobian)"
   ]
  },
  {
   "cell_type": "code",
   "execution_count": null,
   "metadata": {
    "collapsed": true
   },
   "outputs": [],
   "source": [
    "T,aper=make_lenslet_tf(model)\n",
    "R=model(0)\n",
    "fig=plt.figure(figsize=(15,5))\n",
    "plt.subplot(1,2,1)\n",
    "plt.imshow(T.numpy())\n",
    "plt.subplot(1,2,2)\n",
    "plt.imshow(tf.reshape(R,(7,7)))\n",
    "plt.colorbar()"
   ]
  },
  {
   "cell_type": "code",
   "execution_count": null,
   "metadata": {
    "collapsed": true
   },
   "outputs": [],
   "source": [
    "zstack = []\n",
    "for defocus in model.defocus_list:\n",
    "    zstack.append(gen_psf_ag_tf(T,model,defocus,'angle',0., prop_pad = 0.5))"
   ]
  },
  {
   "cell_type": "code",
   "execution_count": null,
   "metadata": {
    "collapsed": true
   },
   "outputs": [],
   "source": [
    "R =model(0)\n",
    "\n",
    "plt.imshow(tf.reshape(R,(7,7)))\n",
    "plt.colorbar()"
   ]
  },
  {
   "cell_type": "code",
   "execution_count": null,
   "metadata": {
    "collapsed": true
   },
   "outputs": [],
   "source": [
    "plt.figure(figsize=(10,10))\n",
    "plt.imshow(zstack[4])"
   ]
  },
  {
   "cell_type": "code",
   "execution_count": null,
   "metadata": {
    "collapsed": true
   },
   "outputs": [],
   "source": [
    "R=model(0)\n",
    "plt.imshow(tf.reshape(R,(7,7)))\n",
    "plt.colorbar()"
   ]
  },
  {
   "cell_type": "code",
   "execution_count": null,
   "metadata": {
    "collapsed": true
   },
   "outputs": [],
   "source": [
    "model2 = Model()\n",
    "Rmat2=model2(0)\n",
    "plt.imshow(tf.reshape(Rmat2,(7,7)))\n",
    "plt.colorbar()"
   ]
  },
  {
   "cell_type": "code",
   "execution_count": null,
   "metadata": {
    "collapsed": true
   },
   "outputs": [],
   "source": [
    "with tf.device(\"/cpu:0\"):\n",
    "    with tf.GradientTape() as t:\n",
    "        t.watch((model.xpos,model.ypos))\n",
    "        Rmat=model(0) \n",
    "    for z in range(model.Nz**2)\n",
    "    der = t.gradient(Rmat,(model.xpos,model.ypos))\n",
    "#    dery = t.gradient(Rmat,model.ypos)"
   ]
  },
  {
   "cell_type": "code",
   "execution_count": null,
   "metadata": {
    "collapsed": true
   },
   "outputs": [],
   "source": [
    "tf.shape(der)"
   ]
  },
  {
   "cell_type": "code",
   "execution_count": null,
   "metadata": {
    "collapsed": true
   },
   "outputs": [],
   "source": [
    "der"
   ]
  },
  {
   "cell_type": "code",
   "execution_count": null,
   "metadata": {
    "collapsed": true
   },
   "outputs": [],
   "source": [
    "for i in range(5):\n",
    "    with tf.device(\"/cpu:0\"):\n",
    "        model = Model()\n",
    "        with tf.GradientTape() as t:\n",
    "            t.watch(model.xpos)\n",
    "            Rmat=model(0) \n",
    "        derx = t.gradient(Rmat,model.xpos)\n",
    "        dery = t.gradient(Rmat,model.ypos)\n",
    "\n",
    "    \n",
    "    theta=theta+(J_f'*J_f)^(-1)*J_f'*residual;\n",
    "    i\n",
    "    sum(f)"
   ]
  },
  {
   "cell_type": "code",
   "execution_count": null,
   "metadata": {
    "collapsed": true
   },
   "outputs": [],
   "source": [
    "#Rmat = np.zeros((model.Nz,model.Nz))\n",
    "start = time.time()\n",
    "Rmat_tf=[]\n",
    "psf_pad=[]\n",
    "\n",
    "for z1 in range(model.Nz):\n",
    "    psf_pad.append(pad_frac_tf(zstack[z1],1)) #how much to pad? \n",
    "    \n",
    "psf_spect=[]\n",
    "\n",
    "for z1 in range(model.Nz):\n",
    "    psf_spect.append(tf.fft2d(tf.complex(psf_pad[z1],tf.constant(0.,dtype = tf.float32))))\n",
    "\n",
    "normsize=tf.to_float(tf.shape(psf_spect)[0]*tf.shape(psf_spect)[1])\n",
    "\n",
    "for z1 in range(model.Nz):\n",
    "    for z2 in range( model.Nz): \n",
    "        Fcorr = tf.conj(psf_spect[z1])*psf_spect[z2]\n",
    "        Rmat_tf.append(tf.reduce_sum(tf.abs(Fcorr)**2)/normsize)\n",
    "\n",
    "Rmat=tf.reshape(Rmat_tf,(7,7))\n",
    "end = time.time()\n",
    "print(end - start)"
   ]
  },
  {
   "cell_type": "code",
   "execution_count": null,
   "metadata": {
    "collapsed": true
   },
   "outputs": [],
   "source": [
    "start = time.time()\n",
    "Rmat = np.zeros((model.Nz,model.Nz))\n",
    "#Rmat_tf=[]\n",
    "psf_pad=[]\n",
    "\n",
    "for z1 in range(model.Nz):\n",
    "    psf_pad.append(pad_frac_tf(zstack[z1],1)) #how much to pad? \n",
    "    \n",
    "psf_spect=[]\n",
    "\n",
    "for z1 in range(model.Nz):\n",
    "    psf_spect.append(tf.fft2d(tf.complex(psf_pad[z1],tf.constant(0.,dtype = tf.float32))))\n",
    "\n",
    "normsize=tf.to_float(tf.shape(psf_spect)[0]*tf.shape(psf_spect)[1])\n",
    "\n",
    "for z1 in range(model.Nz):\n",
    "    for z2 in range( model.Nz): \n",
    "        Fcorr = tf.conj(psf_spect[z1])*psf_spect[z2]\n",
    "        #Rmat_tf.append(tf.reduce_sum(tf.abs(Fcorr)**2)/normsize)\n",
    "        Rmat[z1,z2] = tf.reduce_sum(tf.abs(Fcorr)**2)/normsize\n",
    "\n",
    "Rmat = tf.transpose(Rmat)*(Rmat==0) + Rmat \n",
    "\n",
    "end = time.time()\n",
    "print(end - start)"
   ]
  },
  {
   "cell_type": "code",
   "execution_count": null,
   "metadata": {
    "collapsed": true
   },
   "outputs": [],
   "source": [
    "freqs1 = np.fft.fftfreq(30*30, d=1./30).reshape(30, 30)\n",
    "freqs2 = np.fft.fftfreq(30*30, d=1./40).reshape(30, 30)\n",
    "\n",
    "freqp1=np.pad(freqs1, ((30,30),(30,30)), 'constant', constant_values=(0,0))\n",
    "freqp2=np.pad(freqs2, ((30,30),(30,30)), 'constant', constant_values=(0,0))\n",
    "\n",
    "#zstack1p= pad_frac_tf(freqs1,1) #how much to pad with?\n",
    "#zstack2p= pad_frac_tf(freqs2,1)\n",
    "\n",
    "psf_spect1 = tf.fft2d(tf.complex(freqp1,tf.constant(0.,dtype = tf.float64)))\n",
    "psf_spect2 = tf.fft2d(tf.complex(freqp2,tf.constant(0.,dtype = tf.float64)))\n",
    "\n",
    "Fcorr = tf.conj(psf_spect1)*psf_spect2\n",
    "Rmat = tf.reduce_sum(tf.abs(Fcorr)**2)/(tf.to_float(tf.shape(freqp1)[0]*tf.shape(freqp1)[1]))\n",
    "Rmat"
   ]
  },
  {
   "cell_type": "code",
   "execution_count": null,
   "metadata": {
    "collapsed": true
   },
   "outputs": [],
   "source": [
    "xcorr=signal.correlate2d(freqs1,freqs2)\n",
    "xcorr_sum=np.sum(np.abs(xcorr)**2)\n",
    "xcorr_sum"
   ]
  },
  {
   "cell_type": "code",
   "execution_count": null,
   "metadata": {
    "collapsed": true
   },
   "outputs": [],
   "source": [
    "Fcorrinv=np.fft.ifft2(Fcorr)\n",
    "s=np.sum(np.abs(Fcorrinv)**2)\n",
    "s"
   ]
  },
  {
   "cell_type": "code",
   "execution_count": null,
   "metadata": {
    "collapsed": true
   },
   "outputs": [],
   "source": [
    "psf_spect = np.fft.fft2(zstack[0],)\n",
    "Rmat = np.zeros((model.Nz,model.Nz))\n",
    "for z1 in range(Nz):\n",
    "    for z2 in np.r_[z1:Nz]:\n",
    "      \n",
    "        Fcorr = np.conj(psf_spect[z1])*psf_spect[z2]\n",
    "        Rmat[z1,z2] = np.sum(np.abs(Fcorr)**2)\n",
    "        \n",
    "Rmat = np.transpose(Rmat)*(Rmat==0) + Rmat\n",
    "plt.imshow(Rmat,vmin=0)"
   ]
  },
  {
   "cell_type": "code",
   "execution_count": null,
   "metadata": {
    "collapsed": true
   },
   "outputs": [],
   "source": [
    "freqs = np.fft.fftfreq(9, d=1./9).reshape(3, 3)\n",
    "np.fft.fft2(freqs)\n"
   ]
  },
  {
   "cell_type": "code",
   "execution_count": null,
   "metadata": {
    "collapsed": true
   },
   "outputs": [],
   "source": [
    "def loss(model, inputs, targets):\n",
    "    error = model(inputs) - targets\n",
    "    return tf.reduce_sum(tf.square(error))\n",
    "def grad(model, inputs, targets):\n",
    "    with tf.GradientTape() as tape:\n",
    "        loss_value = loss(model, inputs, targets)\n",
    "    return tape.gradient(loss_value, [model.Rlist])\n"
   ]
  }
 ],
 "metadata": {
  "anaconda-cloud": {},
  "kernelspec": {
   "display_name": "Python [Root]",
   "language": "python",
   "name": "Python [Root]"
  },
  "language_info": {
   "codemirror_mode": {
    "name": "ipython",
    "version": 3
   },
   "file_extension": ".py",
   "mimetype": "text/x-python",
   "name": "python",
   "nbconvert_exporter": "python",
   "pygments_lexer": "ipython3",
   "version": "3.5.2"
  }
 },
 "nbformat": 4,
 "nbformat_minor": 2
}
