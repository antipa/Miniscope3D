{
 "cells": [
  {
   "cell_type": "code",
   "execution_count": 7,
   "metadata": {},
   "outputs": [],
   "source": [
    "import random\n",
    "%matplotlib inline\n",
    "import matplotlib.pyplot as plt\n",
    "import numpy as np"
   ]
  },
  {
   "cell_type": "code",
   "execution_count": 15,
   "metadata": {},
   "outputs": [],
   "source": [
    "#this is the mathematical fuction, z is the z-distance where you want to slice. Height is the base height below the microlenses. \n",
    "def make_lenslet_surf(z,Xlist, Ylist, Rlist, xg, yg, samples,r_lenslet,Nlenslets,aperR=900,height=50):\n",
    "        if z<=height:\n",
    "            aper=np.sqrt(xg**2+yg**2) <= aperR\n",
    "            return aper\n",
    "        else:\n",
    "            T = np.zeros(len(xg))\n",
    "            for n in range(Nlenslets):\n",
    "                #sph = np.real(np.sqrt(0j+Rlist[n]**2 - (xg-Xlist[n])**2 - (yg-Ylist[n])**2))-Rlist[n]+10\n",
    "                sph1 = np.real(np.sqrt(0j+Rlist[n]**2 - (xg-Xlist[n])**2 - (yg-Ylist[n])**2))-np.real(np.sqrt(0j+Rlist[n]**2-r_lenslet**2))-(z-height)\n",
    "\n",
    "                T = np.maximum(T,sph1)\n",
    "                T=(T>0)\n",
    "                #T=T.astype(float32)\n",
    "            aper = np.sqrt(xg**2+yg**2) <= aperR\n",
    "\n",
    "            return (T)*aper\n",
    "\n"
   ]
  },
  {
   "cell_type": "code",
   "execution_count": 17,
   "metadata": {},
   "outputs": [
    {
     "data": {
      "text/plain": [
       "<matplotlib.image.AxesImage at 0x7ff4f0a22278>"
      ]
     },
     "execution_count": 17,
     "metadata": {},
     "output_type": "execute_result"
    },
    {
     "data": {
      "image/png": "[encoded data removed]",
      "text/plain": [
       "<Figure size 432x288 with 1 Axes>"
      ]
     },
     "metadata": {
      "needs_background": "light"
     },
     "output_type": "display_data"
    }
   ],
   "source": [
    "r_lenslet=150\n",
    "samples = (1800,1800)\n",
    "xgrng = np.array((-900, 900)) #in microns \n",
    "ygrng=xgrng\n",
    "yg = np.linspace(ygrng[0], ygrng[1], samples[0])\n",
    "xg=yg\n",
    "px=xg[1] - xg[0]\n",
    "py=px\n",
    "X,Y= np.meshgrid(xg,yg)\n",
    "\n",
    "xpos=np.array([ 0.14612837,  0.71721864,  0.24878536,  0.02303368, -0.28676   ,\n",
    "        -0.5555203 ,  0.26926583,  0.6776483 ,  0.08065559,  0.31480727,\n",
    "         0.67188287, -0.29987562,  0.4472303 , -0.2629405 ,  0.12434713,\n",
    "        -0.601601  , -0.5786936 , -0.20353931,  0.05928293, -0.67162883,\n",
    "        -0.3869435 , -0.12216239,  0.48567393, -0.5014613 ,  0.44351405,\n",
    "        -0.12503134, -0.06180583, -0.38118827,  0.03805367,  0.5129664 ,\n",
    "         0.24860163,  0.04429083,  0.56503314,  0.2663069 ,  0.5895729 ,\n",
    "        -0.7106739 , -0.30863953])\n",
    "ypos=np.array([-0.47143236,  0.06322537, -0.13573071,  0.7196315 ,  0.05813731,\n",
    "         0.2715504 ,  0.21764675, -0.24329564, -0.08334541,  0.64753103,\n",
    "         0.25879234,  0.6535626 ,  0.5642562 ,  0.34251764,  0.14690305,\n",
    "        -0.01247394, -0.42838496, -0.69063145,  0.43011135, -0.25945097,\n",
    "        -0.06059348,  0.5548861 , -0.34397984,  0.5166591 , -0.56524503,\n",
    "        -0.05451034, -0.48637706, -0.61081547, -0.2739432 ,  0.30565697,\n",
    "        -0.6757198 , -0.6709341 , -0.02069343,  0.46220085, -0.4132842 ,\n",
    "         0.11551029, -0.3080526 ])\n",
    "rlist=np.array([5.828535 , 6.1590457, 7.9095016, 7.210874 , 5.2639585, 8.432963 ,\n",
    "        3.498147 , 5.1620317, 3.3644474, 4.320925 , 3.4587631, 3.454391 ,\n",
    "        5.1511827, 8.462513 , 4.4780993, 4.5459094, 6.867732 , 4.917013 ,\n",
    "        6.5178514, 9.240515 , 3.400135 , 4.292744 , 3.4103484, 3.483244 ,\n",
    "        4.6867547, 6.6917057, 3.3727362, 4.557815 , 4.5659766, 5.848995 ,\n",
    "        5.5287976, 3.3733428, 8.0873   , 3.4124787, 3.152522 , 7.4457736,\n",
    "        8.801951 ])\n",
    "Nlenslets=37\n",
    "xpos=np.reshape(xpos,(37))*1000\n",
    "ypos=np.reshape(ypos,(37))*1000\n",
    "rlist=np.reshape(rlist,(37))*1000\n",
    "T2=make_lenslet_surf(51,xpos,ypos,rlist,X,Y,samples,r_lenslet,Nlenslets)\n",
    "plt.imshow(T2)\n",
    "#plt.colorbar()"
   ]
  },
  {
   "cell_type": "code",
   "execution_count": null,
   "metadata": {},
   "outputs": [],
   "source": []
  },
  {
   "cell_type": "code",
   "execution_count": null,
   "metadata": {},
   "outputs": [],
   "source": []
  }
 ],
 "metadata": {
  "kernelspec": {
   "display_name": "Python 3",
   "language": "python",
   "name": "python3"
  },
  "language_info": {
   "codemirror_mode": {
    "name": "ipython",
    "version": 3
   },
   "file_extension": ".py",
   "mimetype": "text/x-python",
   "name": "python",
   "nbconvert_exporter": "python",
   "pygments_lexer": "ipython3",
   "version": "3.5.6"
  }
 },
 "nbformat": 4,
 "nbformat_minor": 2
}
