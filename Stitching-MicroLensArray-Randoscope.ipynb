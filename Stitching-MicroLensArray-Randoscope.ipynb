{
 "cells": [
  {
   "cell_type": "markdown",
   "metadata": {},
   "source": [
    "In this notebook, I will demonstrate how to perform adaptive stitching and avoid cutting through freestanding parts. This is demonstrated on a microlensarray. "
   ]
  },
  {
   "cell_type": "code",
   "execution_count": 2,
   "metadata": {},
   "outputs": [
    {
     "name": "stdout",
     "output_type": "stream",
     "text": [
      "Using matplotlib backend: agg\n",
      "Populating the interactive namespace from numpy and matplotlib\n"
     ]
    }
   ],
   "source": [
    "%pylab"
   ]
  },
  {
   "cell_type": "code",
   "execution_count": 11,
   "metadata": {},
   "outputs": [],
   "source": [
    "%matplotlib inline\n",
    "import matplotlib.pyplot as plt\n",
    "import TipSlicer\n",
    "import cv2\n",
    "import scipy.ndimage as im\n",
    "import tables\n",
    "from importlib import reload\n",
    "import os\n",
    "import scipy.io\n",
    "os.environ[\"CUDA_VISIBLE_DEVICES\"]=\"1\""
   ]
  },
  {
   "cell_type": "code",
   "execution_count": 4,
   "metadata": {},
   "outputs": [],
   "source": [
    "r_lenslet=150\n",
    "samples = (1800,1800)\n",
    "xgrng = np.array((-900, 900)) #in microns \n",
    "ygrng=xgrng\n",
    "yg = np.linspace(ygrng[0], ygrng[1], samples[0])\n",
    "xg=yg\n",
    "px=xg[1] - xg[0]\n",
    "py=px\n",
    "X,Y= np.meshgrid(xg,yg)"
   ]
  },
  {
   "cell_type": "code",
   "execution_count": 8,
   "metadata": {},
   "outputs": [],
   "source": [
    "file_best = '/home/kyrollos/randoscope/bestPrintSurface.mat'\n",
    "file_best2 = '/home/kyrollos/randoscope/BestAndWorst/best_initPrint.mat'\n",
    "loaded2 = scipy.io.loadmat(file_best2)\n",
    "loaded = scipy.io.loadmat(file_best)\n",
    "T=loaded['T']\n",
    "xpos=loaded2['x_best']\n",
    "ypos=loaded2['y_best']\n",
    "rlist=loaded2['r_best']\n",
    "Nlenslets=31\n",
    "xpos=np.reshape(xpos,(31))*1000\n",
    "ypos=np.reshape(ypos,(31))*1000\n",
    "rlist=np.reshape(rlist,(31))*1000"
   ]
  },
  {
   "cell_type": "code",
   "execution_count": 31,
   "metadata": {},
   "outputs": [],
   "source": [
    "def make_lenslet(Xlist, Ylist, Rlist, xg, yg, samples,r_lenslet,Nlenslets,aperR=900,height=50):\n",
    "        T = np.zeros(len(xg))\n",
    "        for n in range(Nlenslets):\n",
    "            #sph = np.real(np.sqrt(0j+Rlist[n]**2 - (xg-Xlist[n])**2 - (yg-Ylist[n])**2))-Rlist[n]+10\n",
    "            sph1 = np.real(np.sqrt(0j+Rlist[n]**2 - (xg-Xlist[n])**2 - (yg-Ylist[n])**2))-np.real(np.sqrt(0j+Rlist[n]**2-r_lenslet**2))\n",
    "\n",
    "            T = np.maximum(T,sph1)\n",
    "        aper = np.sqrt(xg**2+yg**2) <= aperR\n",
    "\n",
    "        return (T)*aper\n",
    "\n",
    "\n",
    "def make_lenslet_surf(z,Xlist, Ylist, Rlist, xg, yg, samples,r_lenslet,Nlenslets,aperR=900,height=0):\n",
    "        if z<=height:\n",
    "            aper=np.sqrt(xg**2+yg**2) <= aperR\n",
    "            return aper.astype(float32)\n",
    "        else:\n",
    "            T = np.zeros(len(xg))\n",
    "            for n in range(Nlenslets):\n",
    "                #sph = np.real(np.sqrt(0j+Rlist[n]**2 - (xg-Xlist[n])**2 - (yg-Ylist[n])**2))-Rlist[n]+10\n",
    "                sph1 = np.real(np.sqrt(0j+Rlist[n]**2 - (xg-Xlist[n])**2 - (yg-Ylist[n])**2))-np.real(np.sqrt(0j+Rlist[n]**2-r_lenslet**2))-(z-height)\n",
    "\n",
    "                T = np.maximum(T,sph1)\n",
    "                T=(T>0)\n",
    "                T=T.astype(float32)\n",
    "            aper = np.sqrt(xg**2+yg**2) <= aperR\n",
    "\n",
    "            return (T)*aper\n",
    "\n",
    "\n"
   ]
  },
  {
   "cell_type": "code",
   "execution_count": 67,
   "metadata": {},
   "outputs": [
    {
     "data": {
      "text/plain": [
       "<matplotlib.colorbar.Colorbar at 0x7f1d31fb8b38>"
      ]
     },
     "execution_count": 67,
     "metadata": {},
     "output_type": "execute_result"
    },
    {
     "data": {
      "image/png": "[encoded data removed]",
      "text/plain": [
       "<Figure size 432x288 with 2 Axes>"
      ]
     },
     "metadata": {
      "needs_background": "light"
     },
     "output_type": "display_data"
    }
   ],
   "source": [
    "T=make_lenslet(xpos,ypos,rlist,X,Y,samples,r_lenslet,Nlenslets)\n",
    "# rectangles = []\n",
    "# dim1=len(T)\n",
    "# dim2=dim1\n",
    "# for m in range(dim1-1):\n",
    "#     for n in range(dim2-1):\n",
    "#             vertices = []\n",
    "#             vertices.append( (m,n,T[m,n]))\n",
    "#             vertices.append( (m+1,n,T[m+1,n]))\n",
    "#             vertices.append( (m+1,n+1,T[m+1,n+1]))\n",
    "#             vertices.append( (m,n+1,T[m,n+1]))\n",
    "#             rectangles.append( vertices )\n",
    "plt.imshow(T)\n",
    "plt.colorbar()"
   ]
  },
  {
   "cell_type": "code",
   "execution_count": 44,
   "metadata": {},
   "outputs": [
    {
     "data": {
      "text/plain": [
       "1.0"
      ]
     },
     "execution_count": 44,
     "metadata": {},
     "output_type": "execute_result"
    },
    {
     "data": {
      "image/png": "[encoded data removed]",
      "text/plain": [
       "<Figure size 432x288 with 2 Axes>"
      ]
     },
     "metadata": {
      "needs_background": "light"
     },
     "output_type": "display_data"
    }
   ],
   "source": [
    "T2=make_lenslet_surf(53.5,xpos,ypos,rlist,X,Y,samples,r_lenslet,Nlenslets,height=50)\n",
    "plt.imshow(T2)\n",
    "plt.colorbar()\n",
    "np.max(T2)"
   ]
  },
  {
   "cell_type": "code",
   "execution_count": null,
   "metadata": {},
   "outputs": [],
   "source": []
  },
  {
   "cell_type": "code",
   "execution_count": 43,
   "metadata": {},
   "outputs": [
    {
     "name": "stdout",
     "output_type": "stream",
     "text": [
      "0.5539622562710065\n"
     ]
    },
    {
     "data": {
      "text/plain": [
       "-0.0"
      ]
     },
     "execution_count": 43,
     "metadata": {},
     "output_type": "execute_result"
    },
    {
     "data": {
      "image/png": "[encoded data removed]",
      "text/plain": [
       "<Figure size 432x288 with 2 Axes>"
      ]
     },
     "metadata": {
      "needs_background": "light"
     },
     "output_type": "display_data"
    }
   ],
   "source": [
    "T2=make_lenslet_surf2(53,xpos,ypos,rlist,X,Y,samples,r_lenslet,Nlenslets,height=50)\n",
    "plt.imshow(T2)\n",
    "plt.colorbar()\n",
    "np.max(T2)"
   ]
  },
  {
   "cell_type": "code",
   "execution_count": 111,
   "metadata": {},
   "outputs": [],
   "source": [
    "def sliceFormula(X,Y,z,params):\n",
    "    xpos,ypos,rlist,r_lenslet,height,aperR,indexPoint=params\n",
    "    aper=np.sqrt(X**2+Y**2) <= aperR\n",
    "    if z<=height:        \n",
    "        return aper\n",
    "    else:\n",
    "        T = np.zeros(len(X))\n",
    "        inds=range(len(xpos))\n",
    "        if (indexPoint>-1):\n",
    "            inds=[indexPoint]\n",
    "        for n in inds:\n",
    "            #sph = np.real(np.sqrt(0j+Rlist[n]**2 - (xg-Xlist[n])**2 - (yg-Ylist[n])**2))-Rlist[n]+10\n",
    "            sph1 = np.real(np.sqrt(0j+rlist[n]**2 - (X-xpos[n])**2 - (Y-ypos[n])**2))-np.real(np.sqrt(0j+rlist[n]**2-r_lenslet**2))-(z-height)\n",
    "            T = np.maximum(T,sph1)\n",
    "            T=(T>0)\n",
    "        return (T)*aper\n",
    "def sliceFormulaAber(X,Y,z,params):\n",
    "    xpos,ypos,rlist,r_lenslet,height,aperR,indexPoint,Xn,Yn,aber=params\n",
    "    \n",
    "    aper=np.sqrt(X**2+Y**2) <= aperR\n",
    "    Z=aber\n",
    "    if z<=height:        \n",
    "        return aper\n",
    "    else:                         \n",
    "        T = np.zeros(len(X))\n",
    "        inds=range(len(xpos))\n",
    "        if (indexPoint>-1):\n",
    "            inds=[indexPoint]\n",
    "        for n in inds:\n",
    "            Xnzern=Xn- xpos[n]/np.max(X)\n",
    "            Ynzern=Yn- ypos[n]/np.max(X)\n",
    "            r = np.sqrt(np.square(Xnzern) + np.square(Ynzern))\n",
    "            Z2  =  Z[n,0]  * 2.*Xnzern\n",
    "            Z3  =  Z[n,1]  * 2.*Ynzern\n",
    "            Z5  =  Z[n,2]  * 2.*np.sqrt(6.)*Xnzern*Ynzern\n",
    "            Z6  =  Z[n,3]  * np.sqrt(6.)*(Xnzern**2-Ynzern**2)\n",
    "            Z12 =  Z[n,4] * np.sqrt(10.)*(Xnzern**2-Ynzern**2)*(4*r**2-3)\n",
    "            Z13 =  Z[n,5] * 2*np.sqrt(10.)*Xnzern*Ynzern*(4*r**2-3)\n",
    "            Z23 =  Z[n,6] * 2*np.sqrt(14.)*Xnzern*Ynzern*(15*r**4-20*r**2+6)\n",
    "            Z24 =  Z[n,7] * np.sqrt(14.)*(Xnzern**2-Ynzern**2)*(15*r**4-20*r**2+6)\n",
    "            ZW = Z5+Z6+Z2+Z3+Z12+Z13+Z23+Z24\n",
    "            #sph = np.real(np.sqrt(0j+Rlist[n]**2 - (xg-Xlist[n])**2 - (yg-Ylist[n])**2))-Rlist[n]+10\n",
    "            sph1 = ZW+np.real(np.sqrt(0j+rlist[n]**2 - (X-xpos[n])**2 - (Y-ypos[n])**2))-np.real(np.sqrt(0j+rlist[n]**2-r_lenslet**2))-(z-height)\n",
    "            T = np.maximum(T,sph1)\n",
    "            T=(T>0)\n",
    "        return (T)*aper\n",
    "    \n",
    "r_lenslet=200\n",
    "samples = (800,800)\n",
    "xgrng = np.array((-1800, 1800)) #in microns \n",
    "ygrng=xgrng\n",
    "yg = np.linspace(ygrng[0], ygrng[1], samples[0])\n",
    "xg=yg\n",
    "px=xg[1] - xg[0]\n",
    "py=px\n",
    "X,Y= np.meshgrid(xg,yg)\n",
    "\n",
    "Xn =  X/np.max(X)\n",
    "Yn =  Y/np.max(Y)\n",
    "\n",
    "xpos=np.array([ 0.18578115,  0.74248238,  0.35555949,  0.10187365, -0.22157956,\n",
    "       -0.5502,  0.29999206,  0.68421244,  0.11299734,  0.3125789 ,\n",
    "        0.69618861, -0.28096646,  0.45888084, -0.27032854,  0.07697116,\n",
    "       -0.5625567 , -0.58, -0.22702032,  0.07976543, -0.70372301,\n",
    "       -0.34797056, -0.1152197 ,  0.41478314, -0.49736261,  0.39453689,\n",
    "       -0.09447947, -0.08091086, -0.40003641,  0.04180626,  0.49347817,\n",
    "        0.25394288,  0.02494959,  0.53552421,  0.28558491,  0.61067326,\n",
    "       -0.72650046,-0.32])\n",
    "ypos=np.array([-0.44942685,  0.0187904 , -0.08720638,  0.7031471 ,  0.11111811,\n",
    "        0.2784 ,  0.16797938, -0.22899178, -0.07601691,  0.67472988,\n",
    "        0.23505869,  0.65642641,  0.52935778,  0.36883709,  0.1762651 ,\n",
    "        0.01505985, -0.4, -0.69954257,  0.41217862, -0.2266678 ,\n",
    "       -0.06487182,  0.51443979, -0.30910161,  0.51766252, -0.53589769,\n",
    "       -0.11244721, -0.46289246, -0.56147136, -0.29425527,  0.2757895 ,\n",
    "       -0.69100594, -0.64317962,  0.01663745,  0.40540164, -0.42807524,\n",
    "        0.168447,-0.3  ])\n",
    "rlist=np.array([4.000442 , 4.440296 , 3.7237842, 3.5596673, 3.2063835, 5.4982405,\n",
    "       4.2089086, 3.0839548, 5.3172565, 3.1439776, 6.364798 , 3.4829168,\n",
    "       2.767    , 4.3215075, 4.839368 , 4.988825 , 2.8152227, 5.1478076,\n",
    "       3.409406 , 6.9092703, 4.6986055, 3.2713168, 5.691979 , 4.5658   ,\n",
    "       4.1020284, 2.970532 , 6.625868 , 7.218    , 3.8116512, 5.8998694,\n",
    "       2.865156 , 3.6398768, 3.9037654, 2.9168925, 3.3389342, 3.026181 ,\n",
    "       6.123522 ])\n",
    "\n",
    "zernlist=np.array([[-1.17687108e-02,  5.72938053e-03,  4.86402947e-04,\n",
    "          1.02568395e-03, -5.53892460e-04, -3.80602403e-04,\n",
    "          2.16703731e-04, -1.65772639e-04],\n",
    "        [ 9.18691512e-03, -1.41764516e-02,  1.23221905e-03,\n",
    "          3.25909030e-04, -9.68211534e-05, -6.00047293e-04,\n",
    "         -3.44769738e-04, -2.62714922e-04],\n",
    "        [-1.52192945e-02,  6.26977906e-03,  4.31081513e-03,\n",
    "          4.19008778e-03, -2.06371816e-03, -2.06740852e-03,\n",
    "         -1.27902580e-03, -1.12184114e-03],\n",
    "        [-9.34849901e-04,  7.38709001e-03,  5.65981679e-03,\n",
    "          9.54413693e-03, -4.02503135e-03, -2.53599021e-03,\n",
    "         -2.14189128e-03, -4.32867790e-03],\n",
    "        [-1.20809732e-03,  2.84368359e-03,  8.09957646e-03,\n",
    "          4.89915255e-03, -2.15096166e-03, -3.80802713e-03,\n",
    "         -2.68443581e-03, -2.02441984e-03],\n",
    "        [-5.75421983e-03,  3.12679261e-02,  2.75256205e-03,\n",
    "         -7.10137412e-02,  3.46597955e-02, -8.41456582e-04,\n",
    "         -1.69216830e-03,  2.52411831e-02],\n",
    "        [-9.13037267e-03,  1.35897007e-02, -4.31771070e-04,\n",
    "          9.50657122e-04, -4.85974335e-04,  1.82898977e-04,\n",
    "          1.89318569e-04, -2.13005580e-04],\n",
    "        [ 1.05885165e-02, -9.73359030e-03, -6.52839988e-03,\n",
    "          1.07250856e-02, -5.43580437e-03,  3.13283387e-03,\n",
    "          2.00536870e-03, -2.47683306e-03],\n",
    "        [ 3.73808341e-03,  1.77262798e-02,  2.47818157e-02,\n",
    "         -3.25277410e-02,  1.53422318e-02, -1.16963014e-02,\n",
    "         -7.80709041e-03,  1.05514424e-02],\n",
    "        [-8.48477893e-03,  1.33316685e-02, -2.63128127e-03,\n",
    "         -1.82898138e-02,  8.77590571e-03,  1.07907213e-03,\n",
    "          1.31903368e-03,  5.77957230e-03],\n",
    "        [ 1.54856760e-02,  1.42496442e-02,  1.84594356e-02,\n",
    "         -1.11813319e-03,  9.40047437e-04, -8.65375716e-03,\n",
    "         -6.29085163e-03, -5.78843465e-04],\n",
    "        [-3.03872563e-02,  2.16844771e-02, -1.46943622e-03,\n",
    "         -4.22583194e-03,  2.07663304e-03,  7.20794022e-04,\n",
    "          4.16112453e-04,  1.14025245e-03],\n",
    "        [-8.90645012e-03,  1.80626512e-02,  2.15511234e-03,\n",
    "         -2.26691714e-03,  1.05684542e-03, -1.57856673e-03,\n",
    "          7.05824175e-04,  7.60983210e-04],\n",
    "        [-1.83437613e-03,  3.10508739e-02, -6.50642114e-03,\n",
    "         -6.55599264e-03,  3.03500216e-03,  3.19512258e-03,\n",
    "          1.77449454e-03,  2.28093774e-03],\n",
    "        [-4.89443075e-03,  1.71563178e-02,  1.12620299e-03,\n",
    "         -5.08950278e-03,  2.43422389e-03, -5.52512472e-04,\n",
    "         -3.04421730e-04,  1.51592458e-03],\n",
    "        [-2.33156001e-03,  1.66538190e-02, -2.46943696e-03,\n",
    "          6.26774691e-03, -2.85376911e-03,  1.41809962e-03,\n",
    "          1.46982318e-04, -2.27591884e-03],\n",
    "        [ 1.57451304e-03,  5.10710524e-03,  5.59779524e-04,\n",
    "          1.80797512e-03, -1.23484351e-03, -2.80679320e-04,\n",
    "         -1.42063654e-04,  3.66442458e-04],\n",
    "        [ 1.30685670e-02, -1.55852530e-02,  2.09633051e-03,\n",
    "          1.08887922e-04, -2.89632899e-05, -9.21230472e-04,\n",
    "         -8.28909280e-04, -8.54352547e-05],\n",
    "        [-2.13992898e-03,  4.51214658e-03,  3.77290393e-03,\n",
    "         -7.96445354e-04,  6.25287823e-04, -1.71734497e-03,\n",
    "         -1.35861780e-03, -3.55383294e-04],\n",
    "        [-1.63696054e-02,  3.91316134e-03,  2.32828292e-03,\n",
    "          2.13203346e-03, -7.43390003e-04, -8.81337619e-04,\n",
    "         -1.29364710e-03, -1.35082367e-03],\n",
    "        [ 2.38592364e-02,  1.72077138e-02, -2.44146995e-02,\n",
    "         -2.16916651e-02,  9.80117358e-03,  1.15172407e-02,\n",
    "          7.63633661e-03,  7.44849490e-03],\n",
    "        [-1.38425101e-02,  2.01402456e-02,  1.84697434e-02,\n",
    "          6.79916963e-02, -3.35409716e-02, -8.61542393e-03,\n",
    "         -6.26588659e-03, -2.23558489e-02],\n",
    "        [-1.55782634e-02,  2.75021754e-02, -3.79122756e-02,\n",
    "         -3.95136606e-03,  6.19235914e-03,  2.67188679e-02,\n",
    "          1.78853385e-02,  4.29455284e-03],\n",
    "        [ 7.34934257e-03,  3.81172225e-02,  1.35775388e-03,\n",
    "         -5.81855606e-03,  2.93009845e-03, -5.13883715e-04,\n",
    "         -7.35414214e-04,  1.33206672e-03],\n",
    "        [ 8.03712104e-03, -1.26246857e-02,  2.71372125e-03,\n",
    "          1.86572745e-02, -8.73437896e-03, -8.67435243e-04,\n",
    "         -1.89831364e-03, -6.13242015e-03],\n",
    "        [-5.11535862e-03,  7.55936839e-03, -5.55838575e-04,\n",
    "          4.80325107e-05, -2.07307658e-05,  3.46031389e-04,\n",
    "         -3.19188475e-05, -1.97029785e-05],\n",
    "        [-9.60495230e-03, -2.06307769e-02,  1.24520240e-02,\n",
    "         -2.51650345e-03,  9.90037574e-04, -6.33014599e-03,\n",
    "         -4.79466515e-03,  1.33734453e-03],\n",
    "        [-2.72505172e-02, -1.20909624e-02, -2.25264672e-02,\n",
    "         -2.40143575e-03,  1.16600783e-03,  1.09910490e-02,\n",
    "          6.52287435e-03,  1.49576715e-03],\n",
    "        [-1.72450929e-03,  6.24877168e-04,  1.36712345e-03,\n",
    "          3.26830451e-03, -1.53485907e-03, -3.49324953e-04,\n",
    "         -1.17910944e-03, -1.07539666e-03],\n",
    "        [ 3.29686305e-03, -2.01407280e-02, -1.01621533e-02,\n",
    "         -4.47628386e-02,  2.13928949e-02,  4.70676366e-03,\n",
    "          3.43671581e-03,  1.45405391e-02],\n",
    "        [ 7.59626157e-04, -8.80634133e-03, -6.26638625e-03,\n",
    "         -2.34046089e-03,  1.43114186e-03,  3.05306795e-03,\n",
    "          1.81378494e-03, -5.30399811e-05],\n",
    "        [-3.57623049e-03, -6.27000816e-03,  3.30943568e-03,\n",
    "          8.57026130e-03, -3.92703526e-03, -1.61554292e-03,\n",
    "         -9.57676675e-04, -3.10674286e-03],\n",
    "        [ 1.10184103e-02, -1.24534108e-02, -4.48538316e-03,\n",
    "          2.43151851e-04, -1.40322576e-04,  2.08686176e-03,\n",
    "          1.51283108e-03, -1.04431811e-05],\n",
    "        [ 1.10035378e-03,  2.68782564e-02, -3.32446536e-03,\n",
    "         -1.24092167e-02,  6.17399858e-03,  2.06362316e-03,\n",
    "         -1.85530545e-04,  3.20189982e-03],\n",
    "        [ 1.35034528e-02, -1.24763222e-02,  3.60997743e-03,\n",
    "          9.84338205e-03, -5.09493193e-03, -1.44146360e-03,\n",
    "         -1.81211857e-03, -2.04315945e-03],\n",
    "        [-1.14218853e-02,  1.24582089e-02,  2.17783800e-03,\n",
    "          9.41376842e-04, -7.77541951e-04, -9.71665955e-04,\n",
    "         -8.56244063e-04,  5.27787488e-04],\n",
    "        [-1.13196438e-02,  1.52079463e-02, -5.22434302e-02,\n",
    "         -8.34508520e-03,  3.75179155e-03,  2.61506960e-02,\n",
    "          1.68537926e-02,  2.93923542e-03]])\n",
    "\n",
    "Nlenslets=37\n",
    "xpos=np.reshape(xpos,(37))*1000\n",
    "ypos=np.reshape(ypos,(37))*1000\n",
    "rlist=np.reshape(rlist,(37))*1000\n",
    "zernlist=zernlist*1000\n",
    "height=50\n",
    "aperR=900"
   ]
  },
  {
   "cell_type": "code",
   "execution_count": 71,
   "metadata": {},
   "outputs": [
    {
     "name": "stdout",
     "output_type": "stream",
     "text": [
      "7.237472914368027\n"
     ]
    },
    {
     "data": {
      "image/png": "[encoded data removed]",
      "text/plain": [
       "<Figure size 432x288 with 2 Axes>"
      ]
     },
     "metadata": {
      "needs_background": "light"
     },
     "output_type": "display_data"
    }
   ],
   "source": [
    "T=make_lenslet(xpos,ypos,rlist,X,Y,samples,r_lenslet,Nlenslets)\n",
    "# rectangles = []\n",
    "# dim1=len(T)\n",
    "# dim2=dim1\n",
    "# for m in range(dim1-1):\n",
    "#     for n in range(dim2-1):\n",
    "#             vertices = []\n",
    "#             vertices.append( (m,n,T[m,n]))\n",
    "#             vertices.append( (m+1,n,T[m+1,n]))\n",
    "#             vertices.append( (m+1,n+1,T[m+1,n+1]))\n",
    "#             vertices.append( (m,n+1,T[m,n+1]))\n",
    "#             rectangles.append( vertices )\n",
    "plt.imshow(T)\n",
    "plt.colorbar()\n",
    "print(np.max(T))"
   ]
  },
  {
   "cell_type": "code",
   "execution_count": 116,
   "metadata": {},
   "outputs": [
    {
     "data": {
      "image/png": "[encoded data removed]",
      "text/plain": [
       "<Figure size 432x288 with 1 Axes>"
      ]
     },
     "metadata": {
      "needs_background": "light"
     },
     "output_type": "display_data"
    }
   ],
   "source": [
    "\n",
    "#plt.colorbar()\n",
    "\n",
    "z=57\n",
    "lens=-1  # putting this to a number between 0 and Nlenslets will show you what each block does\n",
    "         # setting it to -1 will show all lenses..\n",
    "clf()\n",
    "#T=make_lenslet_surf(z,xpos,ypos,rlist,X,Y,samples,r_lenslet,Nlenslets)\n",
    "#Back=sliceFormulaAber(X,Y,z,[xpos,ypos,rlist,r_lenslet,height,aperR,-1,Xn,Yn,zernlist])\n",
    "T=sliceFormulaAber(X,Y,z,[xpos,ypos,rlist,r_lenslet,height,aperR,lens,Xn,Yn,zernlist])\n",
    "#Mask=makeStitchingMask(X,Y,z,[xpos,ypos,rlist,r_lenslet,height,aperR,lens,Xn,Yn,zernlist])\n",
    "#Res=T*(Mask)\n",
    "#Back=np.where(Back==0,NaN,Back)\n",
    "#imshow(Back+Res)\n",
    "imshow(T)\n",
    "#plt.colorbar()\n",
    "np.max(T)\n",
    "z=z+0.2"
   ]
  },
  {
   "cell_type": "code",
   "execution_count": 76,
   "metadata": {},
   "outputs": [
    {
     "name": "stdout",
     "output_type": "stream",
     "text": [
      "54.5\n"
     ]
    },
    {
     "data": {
      "image/png": "[encoded data removed]",
      "text/plain": [
       "<Figure size 432x288 with 1 Axes>"
      ]
     },
     "metadata": {
      "needs_background": "light"
     },
     "output_type": "display_data"
    }
   ],
   "source": [
    "z=54.5\n",
    "clf()\n",
    "#T=make_lenslet_surf(z,xpos,ypos,rlist,X,Y,samples,r_lenslet,Nlenslets)\n",
    "#Back=sliceFormulaAber(X,Y,z,[xpos,ypos,rlist,r_lenslet,height,aperR,-1,Xn,Yn,zernlist])\n",
    "T=sliceFormula(X,Y,z,[xpos,ypos,rlist,r_lenslet,height,aperR,lens])\n",
    "#Mask=makeStitchingMask(X,Y,z,[xpos,ypos,rlist,r_lenslet,height,aperR,lens,Xn,Yn,zernlist])\n",
    "#Res=T*(Mask)\n",
    "#Back=np.where(Back==0,NaN,Back)\n",
    "#imshow(Back+Res)\n",
    "imshow(T)\n",
    "print(z)\n",
    "z=z+0.2"
   ]
  },
  {
   "cell_type": "code",
   "execution_count": null,
   "metadata": {},
   "outputs": [],
   "source": [
    "# stlName='36lenslets_nanoscribe.stl'\n",
    "# h5name='36_lenslets'\n",
    "# [mm2,Zmins,Zmaxs]=loadStl(stlName,mulDimension=1.,centred=True,zToZero=True)\n",
    "# stlToStack(mm2,h5name,X,Y,Z,Zmins,Zmaxs,inFillMaster='',writingMask=np.ones((1,1)),epsilon=0.001,onlyShell=False)"
   ]
  },
  {
   "cell_type": "code",
   "execution_count": null,
   "metadata": {},
   "outputs": [],
   "source": [
    "optPoints=np.zeros((len(xpos),2))\n",
    "for i in range (0,len(xpos)):\n",
    "    optPoints[i,0]=xpos[i]\n",
    "    optPoints[i,1]=ypos[i]"
   ]
  },
  {
   "cell_type": "code",
   "execution_count": null,
   "metadata": {},
   "outputs": [],
   "source": [
    "# %%%time\n",
    "# # now find optimal solution with CONCORDE and CPLEX\n",
    "# TipSlicer.writeTSPfile('blocks.tsp',freePs)\n",
    "# !concorde -o 'tsp.sol' 'blocks.tsp'\n",
    "# Ord=TipSlicer.readTSPfile('tsp.sol')\n"
   ]
  },
  {
   "cell_type": "code",
   "execution_count": null,
   "metadata": {},
   "outputs": [],
   "source": [
    "# clf()\n",
    "# plot(freePs[Ord][:,0],freePs[Ord][:,1],'.-')"
   ]
  },
  {
   "cell_type": "code",
   "execution_count": null,
   "metadata": {},
   "outputs": [],
   "source": [
    "# If you do not have concorde, try the nearest neighbour ordering\n",
    "Ord,NNd=TipSlicer.TSPnearest(optPoints)\n"
   ]
  },
  {
   "cell_type": "code",
   "execution_count": null,
   "metadata": {},
   "outputs": [],
   "source": [
    "pp=optPoints\n",
    "pp_pix=TipSlicer.convertToPixels(X,Y,pp)"
   ]
  },
  {
   "cell_type": "markdown",
   "metadata": {},
   "source": [
    "# Now write to GWL"
   ]
  },
  {
   "cell_type": "code",
   "execution_count": null,
   "metadata": {},
   "outputs": [],
   "source": [
    "reload(TipSlicer)"
   ]
  },
  {
   "cell_type": "code",
   "execution_count": null,
   "metadata": {},
   "outputs": [],
   "source": [
    "regions, vertices = TipSlicer.makeVoronoiPolygons(optPoints)"
   ]
  },
  {
   "cell_type": "code",
   "execution_count": null,
   "metadata": {},
   "outputs": [],
   "source": [
    "#%%%time\n",
    "# STEP 5: Write out stacks\n",
    "#FovZ=55\n",
    "FovZ=4\n",
    "Fov=390\n",
    "hatching=2\n",
    "#slicing1=2\n",
    "#slicing2=0.1\n",
    "slicing=0.1\n",
    "amShells=0\n",
    "ScaffStep=1 # for solid infill => 2*hatching is spacing here\n",
    "hatchStep=1 # for contour distance and top-bottom infill, not used if amShells==1 and doTopBottom=False\n",
    "#CodeSpeeds=np.ones(3)*30000\n",
    "#CodeIntensities=np.ones(3)*80\n",
    "\n",
    "\n",
    "am=np.int(np.round(Fov/hatching))\n",
    "#am=800\n",
    "#amY=np.int(np.round(FovY/hatching))\n",
    "zz1=np.arange(0,50,slicing1)\n",
    "zz2=np.arange(50,55,slicing2)\n",
    "#zz=np.concatenate((zz1,zz2))\n",
    "zz=np.arange(0,FovZ,slicing)\n",
    "dirName='StitchedMLARandoscope_Test15'\n",
    "if (not os.path.exists(dirName)):\n",
    "    os.mkdir(dirName)\n",
    "genBlockName=dirName+'/'+dirName+'Block-{:05d}.h5'\n",
    "genGwlName=dirName+'/'+dirName+'Block-{:05d}.gwl'\n",
    "genRegex=dirName+'/.+gwl'\n",
    "fullGwlName=dirName+'.gwl'\n",
    "distList=[]\n",
    "\n",
    "\n",
    "\n",
    "\n",
    "for i in np.arange(len(Ord)):\n",
    "#for i in np.arange(5):\n",
    "    # now make coordinate systems\n",
    "    print('Writing block {}'.format(i))\n",
    "    xc=optPoints[Ord[i],0]\n",
    "    yc=optPoints[Ord[i],1]\n",
    "    polygon = vertices[regions[Ord[i]]]\n",
    "\n",
    "    xx=np.linspace(xc-Fov/2.0,xc+Fov/2.0,am)\n",
    "    yy=np.linspace(yc-Fov/2.0,yc+Fov/2.0,am)\n",
    "    Xloc,Yloc=np.meshgrid(xx,yy)\n",
    "    \n",
    "    MM=TipSlicer.makeVoronoiMask(polygon,Xloc,Yloc)\n",
    "    # if you need overlap, do binary_dilation on the mask\n",
    "    MM=im.binary_dilation(MM,iterations=3)\n",
    "    #print(np.shape(xx))\n",
    "    # with these coordinate systems, apply formulaToStack\n",
    "    blockName=genBlockName.format(i)\n",
    "    \n",
    "    TipSlicer.formulaToStack2(blockName,Xloc,Yloc,zz,make_lenslet_surf,xpos,ypos,rlist,Xloc,Yloc,samples,r_lenslet,Nlenslets,writingMask=MM)\n",
    "    \n",
    "    # and write the GWL's\n",
    "    dists=TipSlicer.stackToGwl(blockName,genGwlName.format(i),amShells,ScaffStep,hatchStep\n",
    "                                   ,codeSpeeds=[50000,50000,50000],atAngles=-1,writeHeader=False,writeColourH5=False,doTopBottom=False)\n",
    "    try:\n",
    "        distList.append(dists)\n",
    "    except:\n",
    "        print('Could not add dist to list',dists)\n",
    "    \n",
    "TipSlicer.writeGwlForRegex(fullGwlName,genRegex)"
   ]
  },
  {
   "cell_type": "code",
   "execution_count": null,
   "metadata": {},
   "outputs": [],
   "source": [
    "T=make_lenslet(xpos,ypos,rlist,X,Y,samples,r_lenslet,Nlenslets)\n",
    "#test=T*MM.astype(float32)\n",
    "plt.imshow(T)\n",
    "plt.colorbar()\n",
    "np.min(T)"
   ]
  },
  {
   "cell_type": "code",
   "execution_count": null,
   "metadata": {
    "scrolled": true
   },
   "outputs": [],
   "source": [
    "# #%%%time\n",
    "# # STEP 5: Write out stacks\n",
    "# FovZ=45\n",
    "# Fov=300\n",
    "# hatching=0.5\n",
    "# slicing=3\n",
    "\n",
    "# amShells=2\n",
    "# ScaffStep=2 # for solid infill => 2*hatching is spacing here\n",
    "# hatchStep=1 # for contour distance and top-bottom infill, not used if amShells==1 and doTopBottom=False\n",
    "\n",
    "\n",
    "# am=np.int(np.round(Fov/hatching))\n",
    "# #amY=np.int(np.round(FovY/hatching))\n",
    "# zz=np.arange(0,FovZ,slicing)\n",
    "\n",
    "\n",
    "# dirName='MicroLensArrayMiniscope'\n",
    "# if (not os.path.exists(dirName)):\n",
    "#     os.mkdir(dirName)\n",
    "# genBlockName=dirName+'/'+dirName+'Block-{:05d}.h5'\n",
    "# genGwlName=dirName+'/'+dirName+'Block-{:05d}.gwl'\n",
    "# genRegex=dirName+'/.+gwl'\n",
    "# fullGwlName=dirName+'.gwl'\n",
    "\n",
    "# #sliceIndList=np.arange(0,FovZ+slicing,slicing)\n",
    "\n",
    "# #print(len(sliceIndList))\n",
    "# #print(sliceIndList)\n",
    "# #print(zz[sliceIndList])\n",
    "\n",
    "# fullDist=[]\n",
    "# allBlocks=[]\n",
    "# for i in np.arange(0,len(Ord)):\n",
    "# #for i in np.arange(0,10):\n",
    "#     # now make coordinate systems\n",
    "#     print('Writing block {}'.format(i))\n",
    "#     xc=freePs[Ord][i,0]\n",
    "#     yc=freePs[Ord][i,1]\n",
    "\n",
    "#     xx=np.linspace(xc-Fov/2.0,xc+Fov/2.0,am)\n",
    "#     yy=np.linspace(yc-Fov/2.0,yc+Fov/2.0,am)\n",
    "#     Xloc,Yloc=np.meshgrid(xx,yy)\n",
    "    \n",
    "#     # make the writing mask\n",
    "#     seeds=TipSlicer.convertToPixels(Xloc,Yloc,freeLabPos[Ord[i]])\n",
    "#     Tloc=myFigure(Xloc,Yloc,0,0)\n",
    "#     MM=TipSlicer.makeFreeMaterialMatrix(Tloc,seeds)\n",
    "    \n",
    "# #    MM=FormulaSlicer.makeVoronoiMask(polygon,Xloc,Yloc)\n",
    "    \n",
    "    \n",
    "#     # with these coordinate systems, apply formulaToStack\n",
    "#     blockName=genBlockName.format(i)\n",
    "    \n",
    "#     TipSlicer.formulaToStack(blockName,Xloc,Yloc,zz,myFigure,extraParams=0,writingMask=MM)\n",
    "#     allBlocks.append(blockName)\n",
    "#     # and write the GWL's\n",
    "#     #print(sliceIndList)\n",
    "#     dists=TipSlicer.stackToGwl(blockName,genGwlName.format(i),amShells,ScaffStep,hatchStep\n",
    "#                                    ,atAngles=-1,writeHeader=False,writeColourH5=False,doTopBottom=True)\n",
    "#     if (len(dists)>0):\n",
    "#         if (len(fullDist)==0):\n",
    "#             fullDist=dists\n",
    "#         else:\n",
    "#             fullDist=fullDist+dists\n",
    "\n",
    "    \n",
    "# TipSlicer.writeGwlForRegex(fullGwlName,genRegex)\n",
    "\n",
    "# #writeTime=(fullDist/CodeSpeeds[:len(fullDist)]).sum()/3600.\n",
    "# #print('Printing will take +- {:.2f} hours'.format(writeTime))"
   ]
  },
  {
   "cell_type": "code",
   "execution_count": null,
   "metadata": {},
   "outputs": [],
   "source": [
    "CodeSpeeds=np.array([30000,30000,30000])\n",
    "writeTime=(fullDist/CodeSpeeds[:len(fullDist)]).sum()/3600.\n",
    "print('Printing will take +- {:.2f} hours'.format(writeTime))"
   ]
  },
  {
   "cell_type": "markdown",
   "metadata": {},
   "source": [
    "# Now do hexagonal tiling"
   ]
  },
  {
   "cell_type": "code",
   "execution_count": null,
   "metadata": {},
   "outputs": [],
   "source": [
    "hexPos=TipSlicer.getHexStitchCentres(T,150,X,Y)\n",
    "print(len(hexPos))"
   ]
  },
  {
   "cell_type": "code",
   "execution_count": null,
   "metadata": {},
   "outputs": [],
   "source": [
    "# STEP 4: Make voronoi tesselation\n",
    "regions, vertices = TipSlicer.makeVoronoiPolygons(hexPos)\n",
    "#ffOpt=FormulaSlicer.getInfillRatio(regions,vertices,T,X,Y)\n",
    "\n",
    "# and display it\n",
    "clf()\n",
    "for region in regions:\n",
    "    polygon = vertices[region]\n",
    "    plt.fill(*zip(*polygon), alpha=0.6)\n",
    "\n",
    "plt.plot(hexPos[:,0], hexPos[:,1], 'ko')\n",
    "plt.axis('equal')\n",
    "#plt.xlim(vor.min_bound[0] - 20, vor.max_bound[0] + 20)\n",
    "#plt.ylim(vor.min_bound[1] - 20, vor.max_bound[1] + 20)\n",
    "\n",
    "plt.imshow(T,alpha=0.8,extent=(X.min(),X.max(),Y.max(),Y.min()))\n",
    "display(gcf())"
   ]
  },
  {
   "cell_type": "code",
   "execution_count": null,
   "metadata": {},
   "outputs": [],
   "source": [
    "%%%time\n",
    "# now find optimal solution with CONCORDE and CPLEX\n",
    "pp=hexPos\n",
    "TipSlicer.writeTSPfile('blocks.tsp',pp)\n",
    "!concorde -o 'tsp.sol' 'blocks.tsp'\n",
    "Ord=TipSlicer.readTSPfile('tsp.sol')"
   ]
  },
  {
   "cell_type": "code",
   "execution_count": null,
   "metadata": {
    "scrolled": true
   },
   "outputs": [],
   "source": [
    "#%%%time\n",
    "# STEP 5: Write out stacks\n",
    "FovZ=45\n",
    "Fov=300\n",
    "hatching=0.5\n",
    "slicing=3\n",
    "\n",
    "amShells=2\n",
    "ScaffStep=2 # for solid infill => 2*hatching is spacing here\n",
    "hatchStep=1 # for contour distance and top-bottom infill, not used if amShells==1 and doTopBottom=False\n",
    "#CodeSpeeds=np.ones(3)*30000\n",
    "#CodeIntensities=np.ones(3)*80\n",
    "\n",
    "\n",
    "am=np.int(np.round(Fov/hatching))\n",
    "#amY=np.int(np.round(FovY/hatching))\n",
    "zz=np.arange(0,FovZ,slicing)\n",
    "\n",
    "\n",
    "dirName='MicroLensesHexagonal'\n",
    "if (not os.path.exists(dirName)):\n",
    "    os.mkdir(dirName)\n",
    "genBlockName=dirName+'/'+dirName+'Block-{:05d}.h5'\n",
    "genGwlName=dirName+'/'+dirName+'Block-{:05d}.gwl'\n",
    "genRegex=dirName+'/.+gwl'\n",
    "fullGwlName=dirName+'.gwl'\n",
    "\n",
    "for i in np.arange(len(Ord)):\n",
    "#for i in np.arange(10):\n",
    "    # now make coordinate systems\n",
    "    print('Writing block {}'.format(i))\n",
    "    xc=hexPos[Ord[i],0]\n",
    "    yc=hexPos[Ord[i],1]\n",
    "    polygon = vertices[regions[Ord[i]]]\n",
    "\n",
    "    xx=np.linspace(xc-Fov/2.0,xc+Fov/2.0,am)\n",
    "    yy=np.linspace(yc-Fov/2.0,yc+Fov/2.0,am)\n",
    "    Xloc,Yloc=np.meshgrid(xx,yy)\n",
    "    \n",
    "    MM=TipSlicer.makeVoronoiMask(polygon,Xloc,Yloc)\n",
    "    # if you need overlap, do binary_dilation on the mask\n",
    "    MM=im.binary_dilation(MM,iterations=2)\n",
    "    \n",
    "    # with these coordinate systems, apply formulaToStack\n",
    "    blockName=genBlockName.format(i)\n",
    "    \n",
    "    # make a formula for formulaToStack for SERPENTIN!!!\n",
    "    TipSlicer.formulaToStack(blockName,Xloc,Yloc,zz,myFigure,extraParams=0,writingMask=MM)\n",
    "    \n",
    "    # and write the GWL's\n",
    "    dists=TipSlicer.stackToGwl(blockName,genGwlName.format(i),amShells,ScaffStep,hatchStep\n",
    "                                   ,atAngles=-1,writeHeader=False,writeColourH5=False,doTopBottom=True)\n",
    "    \n",
    "TipSlicer.writeGwlForRegex(fullGwlName,genRegex)#,CodeSpeeds,CodeIntensities)"
   ]
  },
  {
   "cell_type": "code",
   "execution_count": null,
   "metadata": {},
   "outputs": [],
   "source": []
  }
 ],
 "metadata": {
  "anaconda-cloud": {},
  "kernelspec": {
   "display_name": "Python 3",
   "language": "python",
   "name": "python3"
  },
  "language_info": {
   "codemirror_mode": {
    "name": "ipython",
    "version": 3
   },
   "file_extension": ".py",
   "mimetype": "text/x-python",
   "name": "python",
   "nbconvert_exporter": "python",
   "pygments_lexer": "ipython3",
   "version": "3.5.6"
  }
 },
 "nbformat": 4,
 "nbformat_minor": 1
}
